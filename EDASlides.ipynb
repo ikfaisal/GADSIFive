{
 "cells": [
  {
   "cell_type": "markdown",
   "metadata": {
    "ExecuteTime": {
     "end_time": "2018-12-11T12:40:47.062393Z",
     "start_time": "2018-12-11T12:40:47.042159Z"
    },
    "slideshow": {
     "slide_type": "notes"
    }
   },
   "source": [
    "Jupyter slideshow: This notebook can be displayed as slides. To view it as a slideshow in your browser, type the following in the console:\n",
    "\n",
    "> jupyter nbconvert EDASlides.ipynb --to slides --post serve\n",
    "\n",
    "To toggle off the slideshow cell formatting, click the CellToolbar button, then View --> Cell Toolbar --> None."
   ]
  },
  {
   "cell_type": "markdown",
   "metadata": {
    "slideshow": {
     "slide_type": "slide"
    }
   },
   "source": [
    "<img src=\"http://imgur.com/1ZcRyrc.png\" style=\"float: left; margin: 20px; height: 55px\">\n",
    "\n",
    "## Exploratory Data Analysis (EDA)\n",
    "\n",
    "_Jonathan | Jon | Ibrahim_\n",
    "\n",
    "---"
   ]
  },
  {
   "cell_type": "markdown",
   "metadata": {
    "slideshow": {
     "slide_type": "slide"
    }
   },
   "source": [
    "### Objectives\n",
    "\n",
    "- Data Collection\n",
    "- Data Cleaning\n",
    "- Data Visualisation"
   ]
  },
  {
   "cell_type": "code",
   "execution_count": 1,
   "metadata": {
    "ExecuteTime": {
     "end_time": "2018-12-13T22:01:16.838317Z",
     "start_time": "2018-12-13T22:01:13.213429Z"
    },
    "slideshow": {
     "slide_type": "notes"
    }
   },
   "outputs": [],
   "source": [
    "import pandas as pd\n",
    "import numpy as np\n",
    "import matplotlib.pyplot as plt\n",
    "import seaborn as sns\n",
    "\n",
    "sns.set_style('whitegrid')\n",
    "\n",
    "%matplotlib inline"
   ]
  },
  {
   "cell_type": "markdown",
   "metadata": {
    "slideshow": {
     "slide_type": "slide"
    }
   },
   "source": [
    "### Data Collection\n",
    "\n",
    "Data collection is the process of gathering information in an established systematic way that enables one to test hypothesis and evaluate outcomes easily."
   ]
  },
  {
   "cell_type": "code",
   "execution_count": 2,
   "metadata": {
    "ExecuteTime": {
     "end_time": "2018-12-13T22:01:17.255838Z",
     "start_time": "2018-12-13T22:01:16.838317Z"
    },
    "slideshow": {
     "slide_type": "slide"
    }
   },
   "outputs": [],
   "source": [
    "fifa = pd.read_csv('./DataSets/FIFA18.csv', low_memory=False)"
   ]
  },
  {
   "cell_type": "code",
   "execution_count": 3,
   "metadata": {
    "ExecuteTime": {
     "end_time": "2018-12-13T22:01:17.300629Z",
     "start_time": "2018-12-13T22:01:17.259743Z"
    },
    "slideshow": {
     "slide_type": "subslide"
    }
   },
   "outputs": [
    {
     "data": {
      "text/html": [
       "<div>\n",
       "<style scoped>\n",
       "    .dataframe tbody tr th:only-of-type {\n",
       "        vertical-align: middle;\n",
       "    }\n",
       "\n",
       "    .dataframe tbody tr th {\n",
       "        vertical-align: top;\n",
       "    }\n",
       "\n",
       "    .dataframe thead th {\n",
       "        text-align: right;\n",
       "    }\n",
       "</style>\n",
       "<table border=\"1\" class=\"dataframe\">\n",
       "  <thead>\n",
       "    <tr style=\"text-align: right;\">\n",
       "      <th></th>\n",
       "      <th>Unnamed: 0</th>\n",
       "      <th>Name</th>\n",
       "      <th>Age</th>\n",
       "      <th>Photo</th>\n",
       "      <th>Nationality</th>\n",
       "      <th>Flag</th>\n",
       "      <th>Overall</th>\n",
       "      <th>Potential</th>\n",
       "      <th>Club</th>\n",
       "      <th>Club Logo</th>\n",
       "      <th>...</th>\n",
       "      <th>RB</th>\n",
       "      <th>RCB</th>\n",
       "      <th>RCM</th>\n",
       "      <th>RDM</th>\n",
       "      <th>RF</th>\n",
       "      <th>RM</th>\n",
       "      <th>RS</th>\n",
       "      <th>RW</th>\n",
       "      <th>RWB</th>\n",
       "      <th>ST</th>\n",
       "    </tr>\n",
       "  </thead>\n",
       "  <tbody>\n",
       "    <tr>\n",
       "      <th>0</th>\n",
       "      <td>0</td>\n",
       "      <td>Cristiano Ronaldo</td>\n",
       "      <td>32</td>\n",
       "      <td>https://cdn.sofifa.org/48/18/players/20801.png</td>\n",
       "      <td>Portugal</td>\n",
       "      <td>https://cdn.sofifa.org/flags/38.png</td>\n",
       "      <td>94</td>\n",
       "      <td>94</td>\n",
       "      <td>Real Madrid CF</td>\n",
       "      <td>https://cdn.sofifa.org/24/18/teams/243.png</td>\n",
       "      <td>...</td>\n",
       "      <td>61.0</td>\n",
       "      <td>53.0</td>\n",
       "      <td>82.0</td>\n",
       "      <td>62.0</td>\n",
       "      <td>91.0</td>\n",
       "      <td>89.0</td>\n",
       "      <td>92.0</td>\n",
       "      <td>91.0</td>\n",
       "      <td>66.0</td>\n",
       "      <td>92.0</td>\n",
       "    </tr>\n",
       "    <tr>\n",
       "      <th>1</th>\n",
       "      <td>1</td>\n",
       "      <td>L. Messi</td>\n",
       "      <td>30</td>\n",
       "      <td>https://cdn.sofifa.org/48/18/players/158023.png</td>\n",
       "      <td>Argentina</td>\n",
       "      <td>https://cdn.sofifa.org/flags/52.png</td>\n",
       "      <td>93</td>\n",
       "      <td>93</td>\n",
       "      <td>FC Barcelona</td>\n",
       "      <td>https://cdn.sofifa.org/24/18/teams/241.png</td>\n",
       "      <td>...</td>\n",
       "      <td>57.0</td>\n",
       "      <td>45.0</td>\n",
       "      <td>84.0</td>\n",
       "      <td>59.0</td>\n",
       "      <td>92.0</td>\n",
       "      <td>90.0</td>\n",
       "      <td>88.0</td>\n",
       "      <td>91.0</td>\n",
       "      <td>62.0</td>\n",
       "      <td>88.0</td>\n",
       "    </tr>\n",
       "    <tr>\n",
       "      <th>2</th>\n",
       "      <td>2</td>\n",
       "      <td>Neymar</td>\n",
       "      <td>25</td>\n",
       "      <td>https://cdn.sofifa.org/48/18/players/190871.png</td>\n",
       "      <td>Brazil</td>\n",
       "      <td>https://cdn.sofifa.org/flags/54.png</td>\n",
       "      <td>92</td>\n",
       "      <td>94</td>\n",
       "      <td>Paris Saint-Germain</td>\n",
       "      <td>https://cdn.sofifa.org/24/18/teams/73.png</td>\n",
       "      <td>...</td>\n",
       "      <td>59.0</td>\n",
       "      <td>46.0</td>\n",
       "      <td>79.0</td>\n",
       "      <td>59.0</td>\n",
       "      <td>88.0</td>\n",
       "      <td>87.0</td>\n",
       "      <td>84.0</td>\n",
       "      <td>89.0</td>\n",
       "      <td>64.0</td>\n",
       "      <td>84.0</td>\n",
       "    </tr>\n",
       "    <tr>\n",
       "      <th>3</th>\n",
       "      <td>3</td>\n",
       "      <td>L. Suárez</td>\n",
       "      <td>30</td>\n",
       "      <td>https://cdn.sofifa.org/48/18/players/176580.png</td>\n",
       "      <td>Uruguay</td>\n",
       "      <td>https://cdn.sofifa.org/flags/60.png</td>\n",
       "      <td>92</td>\n",
       "      <td>92</td>\n",
       "      <td>FC Barcelona</td>\n",
       "      <td>https://cdn.sofifa.org/24/18/teams/241.png</td>\n",
       "      <td>...</td>\n",
       "      <td>64.0</td>\n",
       "      <td>58.0</td>\n",
       "      <td>80.0</td>\n",
       "      <td>65.0</td>\n",
       "      <td>88.0</td>\n",
       "      <td>85.0</td>\n",
       "      <td>88.0</td>\n",
       "      <td>87.0</td>\n",
       "      <td>68.0</td>\n",
       "      <td>88.0</td>\n",
       "    </tr>\n",
       "    <tr>\n",
       "      <th>4</th>\n",
       "      <td>4</td>\n",
       "      <td>M. Neuer</td>\n",
       "      <td>31</td>\n",
       "      <td>https://cdn.sofifa.org/48/18/players/167495.png</td>\n",
       "      <td>Germany</td>\n",
       "      <td>https://cdn.sofifa.org/flags/21.png</td>\n",
       "      <td>92</td>\n",
       "      <td>92</td>\n",
       "      <td>FC Bayern Munich</td>\n",
       "      <td>https://cdn.sofifa.org/24/18/teams/21.png</td>\n",
       "      <td>...</td>\n",
       "      <td>NaN</td>\n",
       "      <td>NaN</td>\n",
       "      <td>NaN</td>\n",
       "      <td>NaN</td>\n",
       "      <td>NaN</td>\n",
       "      <td>NaN</td>\n",
       "      <td>NaN</td>\n",
       "      <td>NaN</td>\n",
       "      <td>NaN</td>\n",
       "      <td>NaN</td>\n",
       "    </tr>\n",
       "  </tbody>\n",
       "</table>\n",
       "<p>5 rows × 75 columns</p>\n",
       "</div>"
      ],
      "text/plain": [
       "   Unnamed: 0               Name  Age  \\\n",
       "0           0  Cristiano Ronaldo   32   \n",
       "1           1           L. Messi   30   \n",
       "2           2             Neymar   25   \n",
       "3           3          L. Suárez   30   \n",
       "4           4           M. Neuer   31   \n",
       "\n",
       "                                             Photo Nationality  \\\n",
       "0   https://cdn.sofifa.org/48/18/players/20801.png    Portugal   \n",
       "1  https://cdn.sofifa.org/48/18/players/158023.png   Argentina   \n",
       "2  https://cdn.sofifa.org/48/18/players/190871.png      Brazil   \n",
       "3  https://cdn.sofifa.org/48/18/players/176580.png     Uruguay   \n",
       "4  https://cdn.sofifa.org/48/18/players/167495.png     Germany   \n",
       "\n",
       "                                  Flag  Overall  Potential  \\\n",
       "0  https://cdn.sofifa.org/flags/38.png       94         94   \n",
       "1  https://cdn.sofifa.org/flags/52.png       93         93   \n",
       "2  https://cdn.sofifa.org/flags/54.png       92         94   \n",
       "3  https://cdn.sofifa.org/flags/60.png       92         92   \n",
       "4  https://cdn.sofifa.org/flags/21.png       92         92   \n",
       "\n",
       "                  Club                                   Club Logo  ...   \\\n",
       "0       Real Madrid CF  https://cdn.sofifa.org/24/18/teams/243.png  ...    \n",
       "1         FC Barcelona  https://cdn.sofifa.org/24/18/teams/241.png  ...    \n",
       "2  Paris Saint-Germain   https://cdn.sofifa.org/24/18/teams/73.png  ...    \n",
       "3         FC Barcelona  https://cdn.sofifa.org/24/18/teams/241.png  ...    \n",
       "4     FC Bayern Munich   https://cdn.sofifa.org/24/18/teams/21.png  ...    \n",
       "\n",
       "     RB   RCB   RCM   RDM    RF    RM    RS    RW   RWB    ST  \n",
       "0  61.0  53.0  82.0  62.0  91.0  89.0  92.0  91.0  66.0  92.0  \n",
       "1  57.0  45.0  84.0  59.0  92.0  90.0  88.0  91.0  62.0  88.0  \n",
       "2  59.0  46.0  79.0  59.0  88.0  87.0  84.0  89.0  64.0  84.0  \n",
       "3  64.0  58.0  80.0  65.0  88.0  85.0  88.0  87.0  68.0  88.0  \n",
       "4   NaN   NaN   NaN   NaN   NaN   NaN   NaN   NaN   NaN   NaN  \n",
       "\n",
       "[5 rows x 75 columns]"
      ]
     },
     "execution_count": 3,
     "metadata": {},
     "output_type": "execute_result"
    }
   ],
   "source": [
    "fifa.head()"
   ]
  },
  {
   "cell_type": "markdown",
   "metadata": {
    "slideshow": {
     "slide_type": "slide"
    }
   },
   "source": [
    "After getting data we need to check the data-type of features.\n",
    "\n",
    "There are following types of features :\n",
    "\n",
    "- numeric\n",
    "- categorical\n",
    "- ordinal\n",
    "- datetime\n",
    "- coordinates\n",
    "\n",
    "In order to know the data types/features of data, we need to run:"
   ]
  },
  {
   "cell_type": "code",
   "execution_count": 4,
   "metadata": {
    "ExecuteTime": {
     "end_time": "2018-12-13T22:01:17.317587Z",
     "start_time": "2018-12-13T22:01:17.304618Z"
    },
    "slideshow": {
     "slide_type": "subslide"
    }
   },
   "outputs": [
    {
     "data": {
      "text/plain": [
       "Unnamed: 0               int64\n",
       "Name                    object\n",
       "Age                      int64\n",
       "Photo                   object\n",
       "Nationality             object\n",
       "Flag                    object\n",
       "Overall                  int64\n",
       "Potential                int64\n",
       "Club                    object\n",
       "Club Logo               object\n",
       "Value                   object\n",
       "Wage                    object\n",
       "Special                  int64\n",
       "Acceleration            object\n",
       "Aggression              object\n",
       "Agility                 object\n",
       "Balance                 object\n",
       "Ball control            object\n",
       "Composure               object\n",
       "Crossing                object\n",
       "Curve                   object\n",
       "Dribbling               object\n",
       "Finishing               object\n",
       "Free kick accuracy      object\n",
       "GK diving               object\n",
       "GK handling             object\n",
       "GK kicking              object\n",
       "GK positioning          object\n",
       "GK reflexes             object\n",
       "Heading accuracy        object\n",
       "                        ...   \n",
       "Vision                  object\n",
       "Volleys                 object\n",
       "CAM                    float64\n",
       "CB                     float64\n",
       "CDM                    float64\n",
       "CF                     float64\n",
       "CM                     float64\n",
       "ID                       int64\n",
       "LAM                    float64\n",
       "LB                     float64\n",
       "LCB                    float64\n",
       "LCM                    float64\n",
       "LDM                    float64\n",
       "LF                     float64\n",
       "LM                     float64\n",
       "LS                     float64\n",
       "LW                     float64\n",
       "LWB                    float64\n",
       "Preferred Positions     object\n",
       "RAM                    float64\n",
       "RB                     float64\n",
       "RCB                    float64\n",
       "RCM                    float64\n",
       "RDM                    float64\n",
       "RF                     float64\n",
       "RM                     float64\n",
       "RS                     float64\n",
       "RW                     float64\n",
       "RWB                    float64\n",
       "ST                     float64\n",
       "Length: 75, dtype: object"
      ]
     },
     "execution_count": 4,
     "metadata": {},
     "output_type": "execute_result"
    }
   ],
   "source": [
    "fifa.dtypes"
   ]
  },
  {
   "cell_type": "code",
   "execution_count": 5,
   "metadata": {
    "ExecuteTime": {
     "end_time": "2018-12-13T22:01:17.414328Z",
     "start_time": "2018-12-13T22:01:17.321573Z"
    },
    "slideshow": {
     "slide_type": "subslide"
    }
   },
   "outputs": [
    {
     "name": "stdout",
     "output_type": "stream",
     "text": [
      "<class 'pandas.core.frame.DataFrame'>\n",
      "RangeIndex: 17981 entries, 0 to 17980\n",
      "Data columns (total 75 columns):\n",
      "Unnamed: 0             17981 non-null int64\n",
      "Name                   17981 non-null object\n",
      "Age                    17981 non-null int64\n",
      "Photo                  17981 non-null object\n",
      "Nationality            17981 non-null object\n",
      "Flag                   17981 non-null object\n",
      "Overall                17981 non-null int64\n",
      "Potential              17981 non-null int64\n",
      "Club                   17733 non-null object\n",
      "Club Logo              17981 non-null object\n",
      "Value                  17981 non-null object\n",
      "Wage                   17981 non-null object\n",
      "Special                17981 non-null int64\n",
      "Acceleration           17981 non-null object\n",
      "Aggression             17981 non-null object\n",
      "Agility                17981 non-null object\n",
      "Balance                17981 non-null object\n",
      "Ball control           17981 non-null object\n",
      "Composure              17981 non-null object\n",
      "Crossing               17981 non-null object\n",
      "Curve                  17981 non-null object\n",
      "Dribbling              17981 non-null object\n",
      "Finishing              17981 non-null object\n",
      "Free kick accuracy     17981 non-null object\n",
      "GK diving              17981 non-null object\n",
      "GK handling            17981 non-null object\n",
      "GK kicking             17981 non-null object\n",
      "GK positioning         17981 non-null object\n",
      "GK reflexes            17981 non-null object\n",
      "Heading accuracy       17981 non-null object\n",
      "Interceptions          17981 non-null object\n",
      "Jumping                17981 non-null object\n",
      "Long passing           17981 non-null object\n",
      "Long shots             17981 non-null object\n",
      "Marking                17981 non-null object\n",
      "Penalties              17981 non-null object\n",
      "Positioning            17981 non-null object\n",
      "Reactions              17981 non-null object\n",
      "Short passing          17981 non-null object\n",
      "Shot power             17981 non-null object\n",
      "Sliding tackle         17981 non-null object\n",
      "Sprint speed           17981 non-null object\n",
      "Stamina                17981 non-null object\n",
      "Standing tackle        17981 non-null object\n",
      "Strength               17981 non-null object\n",
      "Vision                 17981 non-null object\n",
      "Volleys                17981 non-null object\n",
      "CAM                    15952 non-null float64\n",
      "CB                     15952 non-null float64\n",
      "CDM                    15952 non-null float64\n",
      "CF                     15952 non-null float64\n",
      "CM                     15952 non-null float64\n",
      "ID                     17981 non-null int64\n",
      "LAM                    15952 non-null float64\n",
      "LB                     15952 non-null float64\n",
      "LCB                    15952 non-null float64\n",
      "LCM                    15952 non-null float64\n",
      "LDM                    15952 non-null float64\n",
      "LF                     15952 non-null float64\n",
      "LM                     15952 non-null float64\n",
      "LS                     15952 non-null float64\n",
      "LW                     15952 non-null float64\n",
      "LWB                    15952 non-null float64\n",
      "Preferred Positions    17981 non-null object\n",
      "RAM                    15952 non-null float64\n",
      "RB                     15952 non-null float64\n",
      "RCB                    15952 non-null float64\n",
      "RCM                    15952 non-null float64\n",
      "RDM                    15952 non-null float64\n",
      "RF                     15952 non-null float64\n",
      "RM                     15952 non-null float64\n",
      "RS                     15952 non-null float64\n",
      "RW                     15952 non-null float64\n",
      "RWB                    15952 non-null float64\n",
      "ST                     15952 non-null float64\n",
      "dtypes: float64(26), int64(6), object(43)\n",
      "memory usage: 10.3+ MB\n"
     ]
    }
   ],
   "source": [
    "fifa.info()"
   ]
  },
  {
   "cell_type": "markdown",
   "metadata": {
    "slideshow": {
     "slide_type": "slide"
    }
   },
   "source": [
    "### Data Cleaning\n",
    "\n",
    "High-level, data types are a way of storing data that can be utilized for different purposes. For our arithmetic and visualization purposes, we want to change the datatypes to floats or integers that will allow subsequent mathematical processes to be run on them."
   ]
  },
  {
   "cell_type": "code",
   "execution_count": 6,
   "metadata": {
    "ExecuteTime": {
     "end_time": "2018-12-13T22:01:17.429284Z",
     "start_time": "2018-12-13T22:01:17.419312Z"
    },
    "slideshow": {
     "slide_type": "slide"
    }
   },
   "outputs": [
    {
     "data": {
      "text/plain": [
       "0    €565K\n",
       "1    €565K\n",
       "2    €280K\n",
       "3    €510K\n",
       "4    €230K\n",
       "Name: Wage, dtype: object"
      ]
     },
     "execution_count": 6,
     "metadata": {},
     "output_type": "execute_result"
    }
   ],
   "source": [
    "'''\n",
    "From our initial dataset read through, we can determine that wage is returned as an object data type, but\n",
    "it should be a float or integer, so it warrants further inspection.\n",
    "'''\n",
    "\n",
    "fifa.Wage.head()"
   ]
  },
  {
   "cell_type": "code",
   "execution_count": 7,
   "metadata": {
    "ExecuteTime": {
     "end_time": "2018-12-13T22:01:17.450228Z",
     "start_time": "2018-12-13T22:01:17.434272Z"
    },
    "slideshow": {
     "slide_type": "subslide"
    }
   },
   "outputs": [],
   "source": [
    "def remove_currency(data_column):\n",
    "    '''\n",
    "    We can see from the above that we need to from replace €, K from data column and convert to int.\n",
    "    \n",
    "    We can do so using this function.\n",
    "    '''\n",
    "    data_column = data_column.str.replace('€', '')\n",
    "    data_column = data_column.str.replace('K', '')\n",
    "    data_column = pd.to_numeric(data_column)\n",
    "    return data_column"
   ]
  },
  {
   "cell_type": "code",
   "execution_count": 8,
   "metadata": {
    "ExecuteTime": {
     "end_time": "2018-12-13T22:01:17.508077Z",
     "start_time": "2018-12-13T22:01:17.453222Z"
    },
    "slideshow": {
     "slide_type": "subslide"
    }
   },
   "outputs": [],
   "source": [
    "'''\n",
    "Here we call the above function on this Wage column.\n",
    "'''\n",
    "\n",
    "fifa[\"Wage\"] = remove_currency(fifa[\"Wage\"])"
   ]
  },
  {
   "cell_type": "code",
   "execution_count": 9,
   "metadata": {
    "ExecuteTime": {
     "end_time": "2018-12-13T22:01:17.522037Z",
     "start_time": "2018-12-13T22:01:17.511068Z"
    },
    "slideshow": {
     "slide_type": "subslide"
    }
   },
   "outputs": [
    {
     "data": {
      "text/plain": [
       "0    565\n",
       "1    565\n",
       "2    280\n",
       "3    510\n",
       "4    230\n",
       "Name: Wage, dtype: int64"
      ]
     },
     "execution_count": 9,
     "metadata": {},
     "output_type": "execute_result"
    }
   ],
   "source": [
    "'''\n",
    "Here we check that the symbols have been removed.\n",
    "'''\n",
    "\n",
    "fifa.Wage.head()"
   ]
  },
  {
   "cell_type": "code",
   "execution_count": 10,
   "metadata": {
    "ExecuteTime": {
     "end_time": "2018-12-13T22:01:17.619793Z",
     "start_time": "2018-12-13T22:01:17.527025Z"
    },
    "scrolled": true,
    "slideshow": {
     "slide_type": "slide"
    }
   },
   "outputs": [
    {
     "name": "stdout",
     "output_type": "stream",
     "text": [
      "<class 'pandas.core.frame.DataFrame'>\n",
      "RangeIndex: 17981 entries, 0 to 17980\n",
      "Data columns (total 75 columns):\n",
      "Unnamed: 0             17981 non-null int64\n",
      "Name                   17981 non-null object\n",
      "Age                    17981 non-null int64\n",
      "Photo                  17981 non-null object\n",
      "Nationality            17981 non-null object\n",
      "Flag                   17981 non-null object\n",
      "Overall                17981 non-null int64\n",
      "Potential              17981 non-null int64\n",
      "Club                   17733 non-null object\n",
      "Club Logo              17981 non-null object\n",
      "Value                  17981 non-null object\n",
      "Wage                   17981 non-null int64\n",
      "Special                17981 non-null int64\n",
      "Acceleration           17981 non-null object\n",
      "Aggression             17981 non-null object\n",
      "Agility                17981 non-null object\n",
      "Balance                17981 non-null object\n",
      "Ball control           17981 non-null object\n",
      "Composure              17981 non-null object\n",
      "Crossing               17981 non-null object\n",
      "Curve                  17981 non-null object\n",
      "Dribbling              17981 non-null object\n",
      "Finishing              17981 non-null object\n",
      "Free kick accuracy     17981 non-null object\n",
      "GK diving              17981 non-null object\n",
      "GK handling            17981 non-null object\n",
      "GK kicking             17981 non-null object\n",
      "GK positioning         17981 non-null object\n",
      "GK reflexes            17981 non-null object\n",
      "Heading accuracy       17981 non-null object\n",
      "Interceptions          17981 non-null object\n",
      "Jumping                17981 non-null object\n",
      "Long passing           17981 non-null object\n",
      "Long shots             17981 non-null object\n",
      "Marking                17981 non-null object\n",
      "Penalties              17981 non-null object\n",
      "Positioning            17981 non-null object\n",
      "Reactions              17981 non-null object\n",
      "Short passing          17981 non-null object\n",
      "Shot power             17981 non-null object\n",
      "Sliding tackle         17981 non-null object\n",
      "Sprint speed           17981 non-null object\n",
      "Stamina                17981 non-null object\n",
      "Standing tackle        17981 non-null object\n",
      "Strength               17981 non-null object\n",
      "Vision                 17981 non-null object\n",
      "Volleys                17981 non-null object\n",
      "CAM                    15952 non-null float64\n",
      "CB                     15952 non-null float64\n",
      "CDM                    15952 non-null float64\n",
      "CF                     15952 non-null float64\n",
      "CM                     15952 non-null float64\n",
      "ID                     17981 non-null int64\n",
      "LAM                    15952 non-null float64\n",
      "LB                     15952 non-null float64\n",
      "LCB                    15952 non-null float64\n",
      "LCM                    15952 non-null float64\n",
      "LDM                    15952 non-null float64\n",
      "LF                     15952 non-null float64\n",
      "LM                     15952 non-null float64\n",
      "LS                     15952 non-null float64\n",
      "LW                     15952 non-null float64\n",
      "LWB                    15952 non-null float64\n",
      "Preferred Positions    17981 non-null object\n",
      "RAM                    15952 non-null float64\n",
      "RB                     15952 non-null float64\n",
      "RCB                    15952 non-null float64\n",
      "RCM                    15952 non-null float64\n",
      "RDM                    15952 non-null float64\n",
      "RF                     15952 non-null float64\n",
      "RM                     15952 non-null float64\n",
      "RS                     15952 non-null float64\n",
      "RW                     15952 non-null float64\n",
      "RWB                    15952 non-null float64\n",
      "ST                     15952 non-null float64\n",
      "dtypes: float64(26), int64(7), object(42)\n",
      "memory usage: 10.3+ MB\n"
     ]
    }
   ],
   "source": [
    "fifa.info()"
   ]
  },
  {
   "cell_type": "code",
   "execution_count": 11,
   "metadata": {
    "ExecuteTime": {
     "end_time": "2018-12-13T22:01:17.633739Z",
     "start_time": "2018-12-13T22:01:17.623766Z"
    },
    "slideshow": {
     "slide_type": "slide"
    }
   },
   "outputs": [
    {
     "data": {
      "text/plain": [
       "0    €95.5M\n",
       "1     €105M\n",
       "2     €123M\n",
       "3      €97M\n",
       "4      €61M\n",
       "Name: Value, dtype: object"
      ]
     },
     "execution_count": 11,
     "metadata": {},
     "output_type": "execute_result"
    }
   ],
   "source": [
    "'''\n",
    "We can now observe that value needs the same treatment\n",
    "'''\n",
    "\n",
    "fifa.Value.head()"
   ]
  },
  {
   "cell_type": "code",
   "execution_count": 12,
   "metadata": {
    "ExecuteTime": {
     "end_time": "2018-12-13T22:01:17.651691Z",
     "start_time": "2018-12-13T22:01:17.637728Z"
    },
    "slideshow": {
     "slide_type": "subslide"
    }
   },
   "outputs": [],
   "source": [
    "def remove_currency_mill(data_column):\n",
    "    data_column = data_column.str.replace('€', '')\n",
    "    data_column = data_column.str.replace('M', '')\n",
    "    data_column = data_column.str.replace('K', '')\n",
    "    data_column = pd.to_numeric(data_column)\n",
    "    return data_column"
   ]
  },
  {
   "cell_type": "code",
   "execution_count": 13,
   "metadata": {
    "ExecuteTime": {
     "end_time": "2018-12-13T22:01:17.726493Z",
     "start_time": "2018-12-13T22:01:17.655680Z"
    },
    "slideshow": {
     "slide_type": "subslide"
    }
   },
   "outputs": [],
   "source": [
    "fifa[\"Value\"] = remove_currency_mill(fifa[\"Value\"])"
   ]
  },
  {
   "cell_type": "code",
   "execution_count": 14,
   "metadata": {
    "ExecuteTime": {
     "end_time": "2018-12-13T22:01:17.830214Z",
     "start_time": "2018-12-13T22:01:17.728485Z"
    },
    "scrolled": true,
    "slideshow": {
     "slide_type": "slide"
    }
   },
   "outputs": [
    {
     "name": "stdout",
     "output_type": "stream",
     "text": [
      "<class 'pandas.core.frame.DataFrame'>\n",
      "RangeIndex: 17981 entries, 0 to 17980\n",
      "Data columns (total 75 columns):\n",
      "Unnamed: 0             17981 non-null int64\n",
      "Name                   17981 non-null object\n",
      "Age                    17981 non-null int64\n",
      "Photo                  17981 non-null object\n",
      "Nationality            17981 non-null object\n",
      "Flag                   17981 non-null object\n",
      "Overall                17981 non-null int64\n",
      "Potential              17981 non-null int64\n",
      "Club                   17733 non-null object\n",
      "Club Logo              17981 non-null object\n",
      "Value                  17981 non-null float64\n",
      "Wage                   17981 non-null int64\n",
      "Special                17981 non-null int64\n",
      "Acceleration           17981 non-null object\n",
      "Aggression             17981 non-null object\n",
      "Agility                17981 non-null object\n",
      "Balance                17981 non-null object\n",
      "Ball control           17981 non-null object\n",
      "Composure              17981 non-null object\n",
      "Crossing               17981 non-null object\n",
      "Curve                  17981 non-null object\n",
      "Dribbling              17981 non-null object\n",
      "Finishing              17981 non-null object\n",
      "Free kick accuracy     17981 non-null object\n",
      "GK diving              17981 non-null object\n",
      "GK handling            17981 non-null object\n",
      "GK kicking             17981 non-null object\n",
      "GK positioning         17981 non-null object\n",
      "GK reflexes            17981 non-null object\n",
      "Heading accuracy       17981 non-null object\n",
      "Interceptions          17981 non-null object\n",
      "Jumping                17981 non-null object\n",
      "Long passing           17981 non-null object\n",
      "Long shots             17981 non-null object\n",
      "Marking                17981 non-null object\n",
      "Penalties              17981 non-null object\n",
      "Positioning            17981 non-null object\n",
      "Reactions              17981 non-null object\n",
      "Short passing          17981 non-null object\n",
      "Shot power             17981 non-null object\n",
      "Sliding tackle         17981 non-null object\n",
      "Sprint speed           17981 non-null object\n",
      "Stamina                17981 non-null object\n",
      "Standing tackle        17981 non-null object\n",
      "Strength               17981 non-null object\n",
      "Vision                 17981 non-null object\n",
      "Volleys                17981 non-null object\n",
      "CAM                    15952 non-null float64\n",
      "CB                     15952 non-null float64\n",
      "CDM                    15952 non-null float64\n",
      "CF                     15952 non-null float64\n",
      "CM                     15952 non-null float64\n",
      "ID                     17981 non-null int64\n",
      "LAM                    15952 non-null float64\n",
      "LB                     15952 non-null float64\n",
      "LCB                    15952 non-null float64\n",
      "LCM                    15952 non-null float64\n",
      "LDM                    15952 non-null float64\n",
      "LF                     15952 non-null float64\n",
      "LM                     15952 non-null float64\n",
      "LS                     15952 non-null float64\n",
      "LW                     15952 non-null float64\n",
      "LWB                    15952 non-null float64\n",
      "Preferred Positions    17981 non-null object\n",
      "RAM                    15952 non-null float64\n",
      "RB                     15952 non-null float64\n",
      "RCB                    15952 non-null float64\n",
      "RCM                    15952 non-null float64\n",
      "RDM                    15952 non-null float64\n",
      "RF                     15952 non-null float64\n",
      "RM                     15952 non-null float64\n",
      "RS                     15952 non-null float64\n",
      "RW                     15952 non-null float64\n",
      "RWB                    15952 non-null float64\n",
      "ST                     15952 non-null float64\n",
      "dtypes: float64(27), int64(7), object(41)\n",
      "memory usage: 10.3+ MB\n"
     ]
    }
   ],
   "source": [
    "fifa.info()"
   ]
  },
  {
   "cell_type": "markdown",
   "metadata": {
    "slideshow": {
     "slide_type": "slide"
    }
   },
   "source": [
    "We can use the describe function to provide more information on the data.\n",
    "\n",
    "- describe() function shows the statistics of the data.\n",
    "\n",
    "- If you try running this with columns that do not have all integers or floats, then the column data will not be displayed. \n",
    "\n",
    "- It can be very useful to look at these statistics early on to get high level idea about the data."
   ]
  },
  {
   "cell_type": "code",
   "execution_count": 15,
   "metadata": {
    "ExecuteTime": {
     "end_time": "2018-12-13T22:01:17.975823Z",
     "start_time": "2018-12-13T22:01:17.834203Z"
    },
    "scrolled": true,
    "slideshow": {
     "slide_type": "subslide"
    }
   },
   "outputs": [
    {
     "data": {
      "text/html": [
       "<div>\n",
       "<style scoped>\n",
       "    .dataframe tbody tr th:only-of-type {\n",
       "        vertical-align: middle;\n",
       "    }\n",
       "\n",
       "    .dataframe tbody tr th {\n",
       "        vertical-align: top;\n",
       "    }\n",
       "\n",
       "    .dataframe thead th {\n",
       "        text-align: right;\n",
       "    }\n",
       "</style>\n",
       "<table border=\"1\" class=\"dataframe\">\n",
       "  <thead>\n",
       "    <tr style=\"text-align: right;\">\n",
       "      <th></th>\n",
       "      <th>count</th>\n",
       "      <th>mean</th>\n",
       "      <th>std</th>\n",
       "      <th>min</th>\n",
       "      <th>25%</th>\n",
       "      <th>50%</th>\n",
       "      <th>75%</th>\n",
       "      <th>max</th>\n",
       "    </tr>\n",
       "  </thead>\n",
       "  <tbody>\n",
       "    <tr>\n",
       "      <th>Unnamed: 0</th>\n",
       "      <td>17981.0</td>\n",
       "      <td>8990.000000</td>\n",
       "      <td>5190.811931</td>\n",
       "      <td>0.0</td>\n",
       "      <td>4495.0</td>\n",
       "      <td>8990.0</td>\n",
       "      <td>13485.0</td>\n",
       "      <td>17980.0</td>\n",
       "    </tr>\n",
       "    <tr>\n",
       "      <th>Age</th>\n",
       "      <td>17981.0</td>\n",
       "      <td>25.144541</td>\n",
       "      <td>4.614272</td>\n",
       "      <td>16.0</td>\n",
       "      <td>21.0</td>\n",
       "      <td>25.0</td>\n",
       "      <td>28.0</td>\n",
       "      <td>47.0</td>\n",
       "    </tr>\n",
       "    <tr>\n",
       "      <th>Overall</th>\n",
       "      <td>17981.0</td>\n",
       "      <td>66.247984</td>\n",
       "      <td>6.987965</td>\n",
       "      <td>46.0</td>\n",
       "      <td>62.0</td>\n",
       "      <td>66.0</td>\n",
       "      <td>71.0</td>\n",
       "      <td>94.0</td>\n",
       "    </tr>\n",
       "    <tr>\n",
       "      <th>Potential</th>\n",
       "      <td>17981.0</td>\n",
       "      <td>71.190813</td>\n",
       "      <td>6.102199</td>\n",
       "      <td>46.0</td>\n",
       "      <td>67.0</td>\n",
       "      <td>71.0</td>\n",
       "      <td>75.0</td>\n",
       "      <td>94.0</td>\n",
       "    </tr>\n",
       "    <tr>\n",
       "      <th>Value</th>\n",
       "      <td>17981.0</td>\n",
       "      <td>260.810316</td>\n",
       "      <td>288.430164</td>\n",
       "      <td>0.0</td>\n",
       "      <td>4.3</td>\n",
       "      <td>150.0</td>\n",
       "      <td>475.0</td>\n",
       "      <td>975.0</td>\n",
       "    </tr>\n",
       "    <tr>\n",
       "      <th>Wage</th>\n",
       "      <td>17981.0</td>\n",
       "      <td>11.546966</td>\n",
       "      <td>23.080000</td>\n",
       "      <td>0.0</td>\n",
       "      <td>2.0</td>\n",
       "      <td>4.0</td>\n",
       "      <td>12.0</td>\n",
       "      <td>565.0</td>\n",
       "    </tr>\n",
       "    <tr>\n",
       "      <th>Special</th>\n",
       "      <td>17981.0</td>\n",
       "      <td>1594.095100</td>\n",
       "      <td>272.151435</td>\n",
       "      <td>728.0</td>\n",
       "      <td>1449.0</td>\n",
       "      <td>1633.0</td>\n",
       "      <td>1786.0</td>\n",
       "      <td>2291.0</td>\n",
       "    </tr>\n",
       "    <tr>\n",
       "      <th>CAM</th>\n",
       "      <td>15952.0</td>\n",
       "      <td>59.251755</td>\n",
       "      <td>9.880164</td>\n",
       "      <td>27.0</td>\n",
       "      <td>53.0</td>\n",
       "      <td>60.0</td>\n",
       "      <td>66.0</td>\n",
       "      <td>92.0</td>\n",
       "    </tr>\n",
       "    <tr>\n",
       "      <th>CB</th>\n",
       "      <td>15952.0</td>\n",
       "      <td>55.550464</td>\n",
       "      <td>12.192579</td>\n",
       "      <td>25.0</td>\n",
       "      <td>45.0</td>\n",
       "      <td>57.0</td>\n",
       "      <td>65.0</td>\n",
       "      <td>87.0</td>\n",
       "    </tr>\n",
       "    <tr>\n",
       "      <th>CDM</th>\n",
       "      <td>15952.0</td>\n",
       "      <td>56.865283</td>\n",
       "      <td>10.310178</td>\n",
       "      <td>26.0</td>\n",
       "      <td>49.0</td>\n",
       "      <td>58.0</td>\n",
       "      <td>65.0</td>\n",
       "      <td>85.0</td>\n",
       "    </tr>\n",
       "    <tr>\n",
       "      <th>CF</th>\n",
       "      <td>15952.0</td>\n",
       "      <td>59.030028</td>\n",
       "      <td>9.926988</td>\n",
       "      <td>27.0</td>\n",
       "      <td>53.0</td>\n",
       "      <td>60.0</td>\n",
       "      <td>66.0</td>\n",
       "      <td>92.0</td>\n",
       "    </tr>\n",
       "    <tr>\n",
       "      <th>CM</th>\n",
       "      <td>15952.0</td>\n",
       "      <td>58.506833</td>\n",
       "      <td>8.888040</td>\n",
       "      <td>30.0</td>\n",
       "      <td>53.0</td>\n",
       "      <td>59.0</td>\n",
       "      <td>65.0</td>\n",
       "      <td>87.0</td>\n",
       "    </tr>\n",
       "    <tr>\n",
       "      <th>ID</th>\n",
       "      <td>17981.0</td>\n",
       "      <td>207658.710138</td>\n",
       "      <td>32291.667313</td>\n",
       "      <td>16.0</td>\n",
       "      <td>192622.0</td>\n",
       "      <td>214057.0</td>\n",
       "      <td>231448.0</td>\n",
       "      <td>241219.0</td>\n",
       "    </tr>\n",
       "    <tr>\n",
       "      <th>LAM</th>\n",
       "      <td>15952.0</td>\n",
       "      <td>59.251755</td>\n",
       "      <td>9.880164</td>\n",
       "      <td>27.0</td>\n",
       "      <td>53.0</td>\n",
       "      <td>60.0</td>\n",
       "      <td>66.0</td>\n",
       "      <td>92.0</td>\n",
       "    </tr>\n",
       "    <tr>\n",
       "      <th>LB</th>\n",
       "      <td>15952.0</td>\n",
       "      <td>56.979689</td>\n",
       "      <td>9.791627</td>\n",
       "      <td>30.0</td>\n",
       "      <td>50.0</td>\n",
       "      <td>58.0</td>\n",
       "      <td>64.0</td>\n",
       "      <td>84.0</td>\n",
       "    </tr>\n",
       "    <tr>\n",
       "      <th>LCB</th>\n",
       "      <td>15952.0</td>\n",
       "      <td>55.550464</td>\n",
       "      <td>12.192579</td>\n",
       "      <td>25.0</td>\n",
       "      <td>45.0</td>\n",
       "      <td>57.0</td>\n",
       "      <td>65.0</td>\n",
       "      <td>87.0</td>\n",
       "    </tr>\n",
       "    <tr>\n",
       "      <th>LCM</th>\n",
       "      <td>15952.0</td>\n",
       "      <td>58.506833</td>\n",
       "      <td>8.888040</td>\n",
       "      <td>30.0</td>\n",
       "      <td>53.0</td>\n",
       "      <td>59.0</td>\n",
       "      <td>65.0</td>\n",
       "      <td>87.0</td>\n",
       "    </tr>\n",
       "    <tr>\n",
       "      <th>LDM</th>\n",
       "      <td>15952.0</td>\n",
       "      <td>56.865283</td>\n",
       "      <td>10.310178</td>\n",
       "      <td>26.0</td>\n",
       "      <td>49.0</td>\n",
       "      <td>58.0</td>\n",
       "      <td>65.0</td>\n",
       "      <td>85.0</td>\n",
       "    </tr>\n",
       "    <tr>\n",
       "      <th>LF</th>\n",
       "      <td>15952.0</td>\n",
       "      <td>59.030028</td>\n",
       "      <td>9.926988</td>\n",
       "      <td>27.0</td>\n",
       "      <td>53.0</td>\n",
       "      <td>60.0</td>\n",
       "      <td>66.0</td>\n",
       "      <td>92.0</td>\n",
       "    </tr>\n",
       "    <tr>\n",
       "      <th>LM</th>\n",
       "      <td>15952.0</td>\n",
       "      <td>60.057736</td>\n",
       "      <td>9.349180</td>\n",
       "      <td>28.0</td>\n",
       "      <td>54.0</td>\n",
       "      <td>61.0</td>\n",
       "      <td>67.0</td>\n",
       "      <td>90.0</td>\n",
       "    </tr>\n",
       "    <tr>\n",
       "      <th>LS</th>\n",
       "      <td>15952.0</td>\n",
       "      <td>58.204050</td>\n",
       "      <td>9.181392</td>\n",
       "      <td>31.0</td>\n",
       "      <td>52.0</td>\n",
       "      <td>59.0</td>\n",
       "      <td>65.0</td>\n",
       "      <td>92.0</td>\n",
       "    </tr>\n",
       "    <tr>\n",
       "      <th>LW</th>\n",
       "      <td>15952.0</td>\n",
       "      <td>59.359265</td>\n",
       "      <td>9.978084</td>\n",
       "      <td>26.0</td>\n",
       "      <td>53.0</td>\n",
       "      <td>60.0</td>\n",
       "      <td>66.0</td>\n",
       "      <td>91.0</td>\n",
       "    </tr>\n",
       "    <tr>\n",
       "      <th>LWB</th>\n",
       "      <td>15952.0</td>\n",
       "      <td>57.698721</td>\n",
       "      <td>9.142825</td>\n",
       "      <td>31.0</td>\n",
       "      <td>51.0</td>\n",
       "      <td>58.0</td>\n",
       "      <td>64.0</td>\n",
       "      <td>84.0</td>\n",
       "    </tr>\n",
       "    <tr>\n",
       "      <th>RAM</th>\n",
       "      <td>15952.0</td>\n",
       "      <td>59.251755</td>\n",
       "      <td>9.880164</td>\n",
       "      <td>27.0</td>\n",
       "      <td>53.0</td>\n",
       "      <td>60.0</td>\n",
       "      <td>66.0</td>\n",
       "      <td>92.0</td>\n",
       "    </tr>\n",
       "    <tr>\n",
       "      <th>RB</th>\n",
       "      <td>15952.0</td>\n",
       "      <td>56.979689</td>\n",
       "      <td>9.791627</td>\n",
       "      <td>30.0</td>\n",
       "      <td>50.0</td>\n",
       "      <td>58.0</td>\n",
       "      <td>64.0</td>\n",
       "      <td>84.0</td>\n",
       "    </tr>\n",
       "    <tr>\n",
       "      <th>RCB</th>\n",
       "      <td>15952.0</td>\n",
       "      <td>55.550464</td>\n",
       "      <td>12.192579</td>\n",
       "      <td>25.0</td>\n",
       "      <td>45.0</td>\n",
       "      <td>57.0</td>\n",
       "      <td>65.0</td>\n",
       "      <td>87.0</td>\n",
       "    </tr>\n",
       "    <tr>\n",
       "      <th>RCM</th>\n",
       "      <td>15952.0</td>\n",
       "      <td>58.506833</td>\n",
       "      <td>8.888040</td>\n",
       "      <td>30.0</td>\n",
       "      <td>53.0</td>\n",
       "      <td>59.0</td>\n",
       "      <td>65.0</td>\n",
       "      <td>87.0</td>\n",
       "    </tr>\n",
       "    <tr>\n",
       "      <th>RDM</th>\n",
       "      <td>15952.0</td>\n",
       "      <td>56.865283</td>\n",
       "      <td>10.310178</td>\n",
       "      <td>26.0</td>\n",
       "      <td>49.0</td>\n",
       "      <td>58.0</td>\n",
       "      <td>65.0</td>\n",
       "      <td>85.0</td>\n",
       "    </tr>\n",
       "    <tr>\n",
       "      <th>RF</th>\n",
       "      <td>15952.0</td>\n",
       "      <td>59.030028</td>\n",
       "      <td>9.926988</td>\n",
       "      <td>27.0</td>\n",
       "      <td>53.0</td>\n",
       "      <td>60.0</td>\n",
       "      <td>66.0</td>\n",
       "      <td>92.0</td>\n",
       "    </tr>\n",
       "    <tr>\n",
       "      <th>RM</th>\n",
       "      <td>15952.0</td>\n",
       "      <td>60.057736</td>\n",
       "      <td>9.349180</td>\n",
       "      <td>28.0</td>\n",
       "      <td>54.0</td>\n",
       "      <td>61.0</td>\n",
       "      <td>67.0</td>\n",
       "      <td>90.0</td>\n",
       "    </tr>\n",
       "    <tr>\n",
       "      <th>RS</th>\n",
       "      <td>15952.0</td>\n",
       "      <td>58.204050</td>\n",
       "      <td>9.181392</td>\n",
       "      <td>31.0</td>\n",
       "      <td>52.0</td>\n",
       "      <td>59.0</td>\n",
       "      <td>65.0</td>\n",
       "      <td>92.0</td>\n",
       "    </tr>\n",
       "    <tr>\n",
       "      <th>RW</th>\n",
       "      <td>15952.0</td>\n",
       "      <td>59.359265</td>\n",
       "      <td>9.978084</td>\n",
       "      <td>26.0</td>\n",
       "      <td>53.0</td>\n",
       "      <td>60.0</td>\n",
       "      <td>66.0</td>\n",
       "      <td>91.0</td>\n",
       "    </tr>\n",
       "    <tr>\n",
       "      <th>RWB</th>\n",
       "      <td>15952.0</td>\n",
       "      <td>57.698721</td>\n",
       "      <td>9.142825</td>\n",
       "      <td>31.0</td>\n",
       "      <td>51.0</td>\n",
       "      <td>58.0</td>\n",
       "      <td>64.0</td>\n",
       "      <td>84.0</td>\n",
       "    </tr>\n",
       "    <tr>\n",
       "      <th>ST</th>\n",
       "      <td>15952.0</td>\n",
       "      <td>58.204050</td>\n",
       "      <td>9.181392</td>\n",
       "      <td>31.0</td>\n",
       "      <td>52.0</td>\n",
       "      <td>59.0</td>\n",
       "      <td>65.0</td>\n",
       "      <td>92.0</td>\n",
       "    </tr>\n",
       "  </tbody>\n",
       "</table>\n",
       "</div>"
      ],
      "text/plain": [
       "              count           mean           std    min       25%       50%  \\\n",
       "Unnamed: 0  17981.0    8990.000000   5190.811931    0.0    4495.0    8990.0   \n",
       "Age         17981.0      25.144541      4.614272   16.0      21.0      25.0   \n",
       "Overall     17981.0      66.247984      6.987965   46.0      62.0      66.0   \n",
       "Potential   17981.0      71.190813      6.102199   46.0      67.0      71.0   \n",
       "Value       17981.0     260.810316    288.430164    0.0       4.3     150.0   \n",
       "Wage        17981.0      11.546966     23.080000    0.0       2.0       4.0   \n",
       "Special     17981.0    1594.095100    272.151435  728.0    1449.0    1633.0   \n",
       "CAM         15952.0      59.251755      9.880164   27.0      53.0      60.0   \n",
       "CB          15952.0      55.550464     12.192579   25.0      45.0      57.0   \n",
       "CDM         15952.0      56.865283     10.310178   26.0      49.0      58.0   \n",
       "CF          15952.0      59.030028      9.926988   27.0      53.0      60.0   \n",
       "CM          15952.0      58.506833      8.888040   30.0      53.0      59.0   \n",
       "ID          17981.0  207658.710138  32291.667313   16.0  192622.0  214057.0   \n",
       "LAM         15952.0      59.251755      9.880164   27.0      53.0      60.0   \n",
       "LB          15952.0      56.979689      9.791627   30.0      50.0      58.0   \n",
       "LCB         15952.0      55.550464     12.192579   25.0      45.0      57.0   \n",
       "LCM         15952.0      58.506833      8.888040   30.0      53.0      59.0   \n",
       "LDM         15952.0      56.865283     10.310178   26.0      49.0      58.0   \n",
       "LF          15952.0      59.030028      9.926988   27.0      53.0      60.0   \n",
       "LM          15952.0      60.057736      9.349180   28.0      54.0      61.0   \n",
       "LS          15952.0      58.204050      9.181392   31.0      52.0      59.0   \n",
       "LW          15952.0      59.359265      9.978084   26.0      53.0      60.0   \n",
       "LWB         15952.0      57.698721      9.142825   31.0      51.0      58.0   \n",
       "RAM         15952.0      59.251755      9.880164   27.0      53.0      60.0   \n",
       "RB          15952.0      56.979689      9.791627   30.0      50.0      58.0   \n",
       "RCB         15952.0      55.550464     12.192579   25.0      45.0      57.0   \n",
       "RCM         15952.0      58.506833      8.888040   30.0      53.0      59.0   \n",
       "RDM         15952.0      56.865283     10.310178   26.0      49.0      58.0   \n",
       "RF          15952.0      59.030028      9.926988   27.0      53.0      60.0   \n",
       "RM          15952.0      60.057736      9.349180   28.0      54.0      61.0   \n",
       "RS          15952.0      58.204050      9.181392   31.0      52.0      59.0   \n",
       "RW          15952.0      59.359265      9.978084   26.0      53.0      60.0   \n",
       "RWB         15952.0      57.698721      9.142825   31.0      51.0      58.0   \n",
       "ST          15952.0      58.204050      9.181392   31.0      52.0      59.0   \n",
       "\n",
       "                 75%       max  \n",
       "Unnamed: 0   13485.0   17980.0  \n",
       "Age             28.0      47.0  \n",
       "Overall         71.0      94.0  \n",
       "Potential       75.0      94.0  \n",
       "Value          475.0     975.0  \n",
       "Wage            12.0     565.0  \n",
       "Special       1786.0    2291.0  \n",
       "CAM             66.0      92.0  \n",
       "CB              65.0      87.0  \n",
       "CDM             65.0      85.0  \n",
       "CF              66.0      92.0  \n",
       "CM              65.0      87.0  \n",
       "ID          231448.0  241219.0  \n",
       "LAM             66.0      92.0  \n",
       "LB              64.0      84.0  \n",
       "LCB             65.0      87.0  \n",
       "LCM             65.0      87.0  \n",
       "LDM             65.0      85.0  \n",
       "LF              66.0      92.0  \n",
       "LM              67.0      90.0  \n",
       "LS              65.0      92.0  \n",
       "LW              66.0      91.0  \n",
       "LWB             64.0      84.0  \n",
       "RAM             66.0      92.0  \n",
       "RB              64.0      84.0  \n",
       "RCB             65.0      87.0  \n",
       "RCM             65.0      87.0  \n",
       "RDM             65.0      85.0  \n",
       "RF              66.0      92.0  \n",
       "RM              67.0      90.0  \n",
       "RS              65.0      92.0  \n",
       "RW              66.0      91.0  \n",
       "RWB             64.0      84.0  \n",
       "ST              65.0      92.0  "
      ]
     },
     "execution_count": 15,
     "metadata": {},
     "output_type": "execute_result"
    }
   ],
   "source": [
    "fifa.describe().T"
   ]
  },
  {
   "cell_type": "markdown",
   "metadata": {
    "slideshow": {
     "slide_type": "slide"
    }
   },
   "source": [
    "from the above we can observe a couple of columns that could use more cleaning/investigation.\n",
    "\n",
    "1. the unnamed: 0 column appears to be another index row, which is not required as the data frame has applied an automatic index.\n",
    "\n",
    "2. row ID has a minimum alot lower than the IQR."
   ]
  },
  {
   "cell_type": "code",
   "execution_count": 16,
   "metadata": {
    "ExecuteTime": {
     "end_time": "2018-12-13T22:01:17.987790Z",
     "start_time": "2018-12-13T22:01:17.979813Z"
    },
    "slideshow": {
     "slide_type": "skip"
    }
   },
   "outputs": [
    {
     "data": {
      "text/plain": [
       "Index(['Unnamed: 0', 'Name', 'Age', 'Photo', 'Nationality', 'Flag', 'Overall',\n",
       "       'Potential', 'Club', 'Club Logo', 'Value', 'Wage', 'Special',\n",
       "       'Acceleration', 'Aggression', 'Agility', 'Balance', 'Ball control',\n",
       "       'Composure', 'Crossing', 'Curve', 'Dribbling', 'Finishing',\n",
       "       'Free kick accuracy', 'GK diving', 'GK handling', 'GK kicking',\n",
       "       'GK positioning', 'GK reflexes', 'Heading accuracy', 'Interceptions',\n",
       "       'Jumping', 'Long passing', 'Long shots', 'Marking', 'Penalties',\n",
       "       'Positioning', 'Reactions', 'Short passing', 'Shot power',\n",
       "       'Sliding tackle', 'Sprint speed', 'Stamina', 'Standing tackle',\n",
       "       'Strength', 'Vision', 'Volleys', 'CAM', 'CB', 'CDM', 'CF', 'CM', 'ID',\n",
       "       'LAM', 'LB', 'LCB', 'LCM', 'LDM', 'LF', 'LM', 'LS', 'LW', 'LWB',\n",
       "       'Preferred Positions', 'RAM', 'RB', 'RCB', 'RCM', 'RDM', 'RF', 'RM',\n",
       "       'RS', 'RW', 'RWB', 'ST'],\n",
       "      dtype='object')"
      ]
     },
     "execution_count": 16,
     "metadata": {},
     "output_type": "execute_result"
    }
   ],
   "source": [
    "fifa.columns"
   ]
  },
  {
   "cell_type": "code",
   "execution_count": 17,
   "metadata": {
    "ExecuteTime": {
     "end_time": "2018-12-13T22:01:18.019705Z",
     "start_time": "2018-12-13T22:01:17.992785Z"
    },
    "slideshow": {
     "slide_type": "slide"
    }
   },
   "outputs": [],
   "source": [
    "fifa.drop('Unnamed: 0', axis = 1, inplace=True)"
   ]
  },
  {
   "cell_type": "code",
   "execution_count": 18,
   "metadata": {
    "ExecuteTime": {
     "end_time": "2018-12-13T22:01:18.303945Z",
     "start_time": "2018-12-13T22:01:18.022698Z"
    },
    "slideshow": {
     "slide_type": "subslide"
    }
   },
   "outputs": [
    {
     "data": {
      "text/plain": [
       "<matplotlib.axes._subplots.AxesSubplot at 0x2120d389fd0>"
      ]
     },
     "execution_count": 18,
     "metadata": {},
     "output_type": "execute_result"
    },
    {
     "data": {
      "image/png": "[encoded data removed]",
      "text/plain": [
       "<matplotlib.figure.Figure at 0x2120cb8bfd0>"
      ]
     },
     "metadata": {
      "needs_background": "light"
     },
     "output_type": "display_data"
    }
   ],
   "source": [
    "fifa.ID.plot.hist()"
   ]
  },
  {
   "cell_type": "code",
   "execution_count": 19,
   "metadata": {
    "ExecuteTime": {
     "end_time": "2018-12-13T22:01:18.525360Z",
     "start_time": "2018-12-13T22:01:18.308937Z"
    },
    "slideshow": {
     "slide_type": "subslide"
    }
   },
   "outputs": [
    {
     "data": {
      "text/plain": [
       "<matplotlib.axes._subplots.AxesSubplot at 0x2120cff3a90>"
      ]
     },
     "execution_count": 19,
     "metadata": {},
     "output_type": "execute_result"
    },
    {
     "data": {
      "image/png": "[encoded data removed]",
      "text/plain": [
       "<matplotlib.figure.Figure at 0x2120d271278>"
      ]
     },
     "metadata": {
      "needs_background": "light"
     },
     "output_type": "display_data"
    }
   ],
   "source": [
    "fifa.ID.plot.box(vert = False)"
   ]
  },
  {
   "cell_type": "markdown",
   "metadata": {
    "slideshow": {
     "slide_type": "subslide"
    }
   },
   "source": [
    "We need to decide whether we want to remove the outliers from this dataset prior to visualisation, or whether we come back to it after we have had an opportunity to look for any potential relationships between data points."
   ]
  },
  {
   "cell_type": "markdown",
   "metadata": {
    "slideshow": {
     "slide_type": "slide"
    }
   },
   "source": [
    "### Data Visualizations\n",
    "\n",
    "- Charts or graphs that visualize large amounts of complex data are easier to understand than spreadsheets or reports.\n",
    "\n",
    "- Data visualization is a quick, easy way to convey concepts in a universal manner"
   ]
  },
  {
   "cell_type": "code",
   "execution_count": 20,
   "metadata": {
    "ExecuteTime": {
     "end_time": "2018-12-13T22:01:18.681934Z",
     "start_time": "2018-12-13T22:01:18.529344Z"
    },
    "slideshow": {
     "slide_type": "subslide"
    }
   },
   "outputs": [
    {
     "data": {
      "text/html": [
       "<div>\n",
       "<style scoped>\n",
       "    .dataframe tbody tr th:only-of-type {\n",
       "        vertical-align: middle;\n",
       "    }\n",
       "\n",
       "    .dataframe tbody tr th {\n",
       "        vertical-align: top;\n",
       "    }\n",
       "\n",
       "    .dataframe thead th {\n",
       "        text-align: right;\n",
       "    }\n",
       "</style>\n",
       "<table border=\"1\" class=\"dataframe\">\n",
       "  <thead>\n",
       "    <tr style=\"text-align: right;\">\n",
       "      <th></th>\n",
       "      <th>Age</th>\n",
       "      <th>Overall</th>\n",
       "      <th>Potential</th>\n",
       "      <th>Value</th>\n",
       "      <th>Wage</th>\n",
       "      <th>Special</th>\n",
       "      <th>CAM</th>\n",
       "      <th>CB</th>\n",
       "      <th>CDM</th>\n",
       "      <th>CF</th>\n",
       "      <th>...</th>\n",
       "      <th>RB</th>\n",
       "      <th>RCB</th>\n",
       "      <th>RCM</th>\n",
       "      <th>RDM</th>\n",
       "      <th>RF</th>\n",
       "      <th>RM</th>\n",
       "      <th>RS</th>\n",
       "      <th>RW</th>\n",
       "      <th>RWB</th>\n",
       "      <th>ST</th>\n",
       "    </tr>\n",
       "  </thead>\n",
       "  <tbody>\n",
       "    <tr>\n",
       "      <th>Age</th>\n",
       "      <td>1.000000</td>\n",
       "      <td>0.459765</td>\n",
       "      <td>-0.218264</td>\n",
       "      <td>-0.067069</td>\n",
       "      <td>0.150006</td>\n",
       "      <td>0.238667</td>\n",
       "      <td>0.245855</td>\n",
       "      <td>0.337481</td>\n",
       "      <td>0.383450</td>\n",
       "      <td>0.235596</td>\n",
       "      <td>...</td>\n",
       "      <td>0.321227</td>\n",
       "      <td>0.337481</td>\n",
       "      <td>0.365783</td>\n",
       "      <td>0.383450</td>\n",
       "      <td>0.235596</td>\n",
       "      <td>0.232945</td>\n",
       "      <td>0.287541</td>\n",
       "      <td>0.206051</td>\n",
       "      <td>0.337143</td>\n",
       "      <td>0.287541</td>\n",
       "    </tr>\n",
       "    <tr>\n",
       "      <th>Overall</th>\n",
       "      <td>0.459765</td>\n",
       "      <td>1.000000</td>\n",
       "      <td>0.683474</td>\n",
       "      <td>-0.233466</td>\n",
       "      <td>0.593789</td>\n",
       "      <td>0.604092</td>\n",
       "      <td>0.650313</td>\n",
       "      <td>0.448856</td>\n",
       "      <td>0.607727</td>\n",
       "      <td>0.636278</td>\n",
       "      <td>...</td>\n",
       "      <td>0.561887</td>\n",
       "      <td>0.448856</td>\n",
       "      <td>0.764609</td>\n",
       "      <td>0.607727</td>\n",
       "      <td>0.636278</td>\n",
       "      <td>0.656745</td>\n",
       "      <td>0.664822</td>\n",
       "      <td>0.610198</td>\n",
       "      <td>0.629401</td>\n",
       "      <td>0.664822</td>\n",
       "    </tr>\n",
       "    <tr>\n",
       "      <th>Potential</th>\n",
       "      <td>-0.218264</td>\n",
       "      <td>0.683474</td>\n",
       "      <td>1.000000</td>\n",
       "      <td>-0.217572</td>\n",
       "      <td>0.519062</td>\n",
       "      <td>0.399511</td>\n",
       "      <td>0.470421</td>\n",
       "      <td>0.219380</td>\n",
       "      <td>0.345344</td>\n",
       "      <td>0.458830</td>\n",
       "      <td>...</td>\n",
       "      <td>0.330672</td>\n",
       "      <td>0.219380</td>\n",
       "      <td>0.508133</td>\n",
       "      <td>0.345344</td>\n",
       "      <td>0.458830</td>\n",
       "      <td>0.474998</td>\n",
       "      <td>0.447747</td>\n",
       "      <td>0.448580</td>\n",
       "      <td>0.383213</td>\n",
       "      <td>0.447747</td>\n",
       "    </tr>\n",
       "    <tr>\n",
       "      <th>Value</th>\n",
       "      <td>-0.067069</td>\n",
       "      <td>-0.233466</td>\n",
       "      <td>-0.217572</td>\n",
       "      <td>1.000000</td>\n",
       "      <td>-0.261942</td>\n",
       "      <td>-0.109017</td>\n",
       "      <td>-0.181998</td>\n",
       "      <td>-0.093359</td>\n",
       "      <td>-0.139879</td>\n",
       "      <td>-0.180572</td>\n",
       "      <td>...</td>\n",
       "      <td>-0.125827</td>\n",
       "      <td>-0.093359</td>\n",
       "      <td>-0.203486</td>\n",
       "      <td>-0.139879</td>\n",
       "      <td>-0.180572</td>\n",
       "      <td>-0.177024</td>\n",
       "      <td>-0.184606</td>\n",
       "      <td>-0.169072</td>\n",
       "      <td>-0.144693</td>\n",
       "      <td>-0.184606</td>\n",
       "    </tr>\n",
       "    <tr>\n",
       "      <th>Wage</th>\n",
       "      <td>0.150006</td>\n",
       "      <td>0.593789</td>\n",
       "      <td>0.519062</td>\n",
       "      <td>-0.261942</td>\n",
       "      <td>1.000000</td>\n",
       "      <td>0.367419</td>\n",
       "      <td>0.412427</td>\n",
       "      <td>0.220554</td>\n",
       "      <td>0.321822</td>\n",
       "      <td>0.408102</td>\n",
       "      <td>...</td>\n",
       "      <td>0.299300</td>\n",
       "      <td>0.220554</td>\n",
       "      <td>0.457183</td>\n",
       "      <td>0.321822</td>\n",
       "      <td>0.408102</td>\n",
       "      <td>0.412422</td>\n",
       "      <td>0.421092</td>\n",
       "      <td>0.390940</td>\n",
       "      <td>0.343395</td>\n",
       "      <td>0.421092</td>\n",
       "    </tr>\n",
       "    <tr>\n",
       "      <th>Special</th>\n",
       "      <td>0.238667</td>\n",
       "      <td>0.604092</td>\n",
       "      <td>0.399511</td>\n",
       "      <td>-0.109017</td>\n",
       "      <td>0.367419</td>\n",
       "      <td>1.000000</td>\n",
       "      <td>0.854197</td>\n",
       "      <td>0.401629</td>\n",
       "      <td>0.650723</td>\n",
       "      <td>0.822487</td>\n",
       "      <td>...</td>\n",
       "      <td>0.623048</td>\n",
       "      <td>0.401629</td>\n",
       "      <td>0.943764</td>\n",
       "      <td>0.650723</td>\n",
       "      <td>0.822487</td>\n",
       "      <td>0.872130</td>\n",
       "      <td>0.793552</td>\n",
       "      <td>0.825615</td>\n",
       "      <td>0.735167</td>\n",
       "      <td>0.793552</td>\n",
       "    </tr>\n",
       "    <tr>\n",
       "      <th>CAM</th>\n",
       "      <td>0.245855</td>\n",
       "      <td>0.650313</td>\n",
       "      <td>0.470421</td>\n",
       "      <td>-0.181998</td>\n",
       "      <td>0.412427</td>\n",
       "      <td>0.854197</td>\n",
       "      <td>1.000000</td>\n",
       "      <td>-0.070694</td>\n",
       "      <td>0.257182</td>\n",
       "      <td>0.986346</td>\n",
       "      <td>...</td>\n",
       "      <td>0.204500</td>\n",
       "      <td>-0.070694</td>\n",
       "      <td>0.903315</td>\n",
       "      <td>0.257182</td>\n",
       "      <td>0.986346</td>\n",
       "      <td>0.983408</td>\n",
       "      <td>0.927452</td>\n",
       "      <td>0.983941</td>\n",
       "      <td>0.368896</td>\n",
       "      <td>0.927452</td>\n",
       "    </tr>\n",
       "    <tr>\n",
       "      <th>CB</th>\n",
       "      <td>0.337481</td>\n",
       "      <td>0.448856</td>\n",
       "      <td>0.219380</td>\n",
       "      <td>-0.093359</td>\n",
       "      <td>0.220554</td>\n",
       "      <td>0.401629</td>\n",
       "      <td>-0.070694</td>\n",
       "      <td>1.000000</td>\n",
       "      <td>0.929486</td>\n",
       "      <td>-0.141250</td>\n",
       "      <td>...</td>\n",
       "      <td>0.926170</td>\n",
       "      <td>1.000000</td>\n",
       "      <td>0.328064</td>\n",
       "      <td>0.929486</td>\n",
       "      <td>-0.141250</td>\n",
       "      <td>-0.029624</td>\n",
       "      <td>-0.129200</td>\n",
       "      <td>-0.139745</td>\n",
       "      <td>0.849959</td>\n",
       "      <td>-0.129200</td>\n",
       "    </tr>\n",
       "    <tr>\n",
       "      <th>CDM</th>\n",
       "      <td>0.383450</td>\n",
       "      <td>0.607727</td>\n",
       "      <td>0.345344</td>\n",
       "      <td>-0.139879</td>\n",
       "      <td>0.321822</td>\n",
       "      <td>0.650723</td>\n",
       "      <td>0.257182</td>\n",
       "      <td>0.929486</td>\n",
       "      <td>1.000000</td>\n",
       "      <td>0.165728</td>\n",
       "      <td>...</td>\n",
       "      <td>0.968022</td>\n",
       "      <td>0.929486</td>\n",
       "      <td>0.631197</td>\n",
       "      <td>1.000000</td>\n",
       "      <td>0.165728</td>\n",
       "      <td>0.292332</td>\n",
       "      <td>0.129067</td>\n",
       "      <td>0.175801</td>\n",
       "      <td>0.955188</td>\n",
       "      <td>0.129067</td>\n",
       "    </tr>\n",
       "    <tr>\n",
       "      <th>CF</th>\n",
       "      <td>0.235596</td>\n",
       "      <td>0.636278</td>\n",
       "      <td>0.458830</td>\n",
       "      <td>-0.180572</td>\n",
       "      <td>0.408102</td>\n",
       "      <td>0.822487</td>\n",
       "      <td>0.986346</td>\n",
       "      <td>-0.141250</td>\n",
       "      <td>0.165728</td>\n",
       "      <td>1.000000</td>\n",
       "      <td>...</td>\n",
       "      <td>0.123218</td>\n",
       "      <td>-0.141250</td>\n",
       "      <td>0.846493</td>\n",
       "      <td>0.165728</td>\n",
       "      <td>1.000000</td>\n",
       "      <td>0.970136</td>\n",
       "      <td>0.967872</td>\n",
       "      <td>0.986833</td>\n",
       "      <td>0.286582</td>\n",
       "      <td>0.967872</td>\n",
       "    </tr>\n",
       "    <tr>\n",
       "      <th>CM</th>\n",
       "      <td>0.365783</td>\n",
       "      <td>0.764609</td>\n",
       "      <td>0.508133</td>\n",
       "      <td>-0.203486</td>\n",
       "      <td>0.457183</td>\n",
       "      <td>0.943764</td>\n",
       "      <td>0.903315</td>\n",
       "      <td>0.328064</td>\n",
       "      <td>0.631197</td>\n",
       "      <td>0.846493</td>\n",
       "      <td>...</td>\n",
       "      <td>0.558706</td>\n",
       "      <td>0.328064</td>\n",
       "      <td>1.000000</td>\n",
       "      <td>0.631197</td>\n",
       "      <td>0.846493</td>\n",
       "      <td>0.898170</td>\n",
       "      <td>0.779877</td>\n",
       "      <td>0.844640</td>\n",
       "      <td>0.685704</td>\n",
       "      <td>0.779877</td>\n",
       "    </tr>\n",
       "    <tr>\n",
       "      <th>ID</th>\n",
       "      <td>-0.719316</td>\n",
       "      <td>-0.425881</td>\n",
       "      <td>0.001998</td>\n",
       "      <td>0.088663</td>\n",
       "      <td>-0.213480</td>\n",
       "      <td>-0.232074</td>\n",
       "      <td>-0.268760</td>\n",
       "      <td>-0.285998</td>\n",
       "      <td>-0.345803</td>\n",
       "      <td>-0.254976</td>\n",
       "      <td>...</td>\n",
       "      <td>-0.282252</td>\n",
       "      <td>-0.285998</td>\n",
       "      <td>-0.367868</td>\n",
       "      <td>-0.345803</td>\n",
       "      <td>-0.254976</td>\n",
       "      <td>-0.250306</td>\n",
       "      <td>-0.291824</td>\n",
       "      <td>-0.229243</td>\n",
       "      <td>-0.304484</td>\n",
       "      <td>-0.291824</td>\n",
       "    </tr>\n",
       "    <tr>\n",
       "      <th>LAM</th>\n",
       "      <td>0.245855</td>\n",
       "      <td>0.650313</td>\n",
       "      <td>0.470421</td>\n",
       "      <td>-0.181998</td>\n",
       "      <td>0.412427</td>\n",
       "      <td>0.854197</td>\n",
       "      <td>1.000000</td>\n",
       "      <td>-0.070694</td>\n",
       "      <td>0.257182</td>\n",
       "      <td>0.986346</td>\n",
       "      <td>...</td>\n",
       "      <td>0.204500</td>\n",
       "      <td>-0.070694</td>\n",
       "      <td>0.903315</td>\n",
       "      <td>0.257182</td>\n",
       "      <td>0.986346</td>\n",
       "      <td>0.983408</td>\n",
       "      <td>0.927452</td>\n",
       "      <td>0.983941</td>\n",
       "      <td>0.368896</td>\n",
       "      <td>0.927452</td>\n",
       "    </tr>\n",
       "    <tr>\n",
       "      <th>LB</th>\n",
       "      <td>0.321227</td>\n",
       "      <td>0.561887</td>\n",
       "      <td>0.330672</td>\n",
       "      <td>-0.125827</td>\n",
       "      <td>0.299300</td>\n",
       "      <td>0.623048</td>\n",
       "      <td>0.204500</td>\n",
       "      <td>0.926170</td>\n",
       "      <td>0.968022</td>\n",
       "      <td>0.123218</td>\n",
       "      <td>...</td>\n",
       "      <td>1.000000</td>\n",
       "      <td>0.926170</td>\n",
       "      <td>0.558706</td>\n",
       "      <td>0.968022</td>\n",
       "      <td>0.123218</td>\n",
       "      <td>0.273691</td>\n",
       "      <td>0.077723</td>\n",
       "      <td>0.158306</td>\n",
       "      <td>0.981366</td>\n",
       "      <td>0.077723</td>\n",
       "    </tr>\n",
       "    <tr>\n",
       "      <th>LCB</th>\n",
       "      <td>0.337481</td>\n",
       "      <td>0.448856</td>\n",
       "      <td>0.219380</td>\n",
       "      <td>-0.093359</td>\n",
       "      <td>0.220554</td>\n",
       "      <td>0.401629</td>\n",
       "      <td>-0.070694</td>\n",
       "      <td>1.000000</td>\n",
       "      <td>0.929486</td>\n",
       "      <td>-0.141250</td>\n",
       "      <td>...</td>\n",
       "      <td>0.926170</td>\n",
       "      <td>1.000000</td>\n",
       "      <td>0.328064</td>\n",
       "      <td>0.929486</td>\n",
       "      <td>-0.141250</td>\n",
       "      <td>-0.029624</td>\n",
       "      <td>-0.129200</td>\n",
       "      <td>-0.139745</td>\n",
       "      <td>0.849959</td>\n",
       "      <td>-0.129200</td>\n",
       "    </tr>\n",
       "    <tr>\n",
       "      <th>LCM</th>\n",
       "      <td>0.365783</td>\n",
       "      <td>0.764609</td>\n",
       "      <td>0.508133</td>\n",
       "      <td>-0.203486</td>\n",
       "      <td>0.457183</td>\n",
       "      <td>0.943764</td>\n",
       "      <td>0.903315</td>\n",
       "      <td>0.328064</td>\n",
       "      <td>0.631197</td>\n",
       "      <td>0.846493</td>\n",
       "      <td>...</td>\n",
       "      <td>0.558706</td>\n",
       "      <td>0.328064</td>\n",
       "      <td>1.000000</td>\n",
       "      <td>0.631197</td>\n",
       "      <td>0.846493</td>\n",
       "      <td>0.898170</td>\n",
       "      <td>0.779877</td>\n",
       "      <td>0.844640</td>\n",
       "      <td>0.685704</td>\n",
       "      <td>0.779877</td>\n",
       "    </tr>\n",
       "    <tr>\n",
       "      <th>LDM</th>\n",
       "      <td>0.383450</td>\n",
       "      <td>0.607727</td>\n",
       "      <td>0.345344</td>\n",
       "      <td>-0.139879</td>\n",
       "      <td>0.321822</td>\n",
       "      <td>0.650723</td>\n",
       "      <td>0.257182</td>\n",
       "      <td>0.929486</td>\n",
       "      <td>1.000000</td>\n",
       "      <td>0.165728</td>\n",
       "      <td>...</td>\n",
       "      <td>0.968022</td>\n",
       "      <td>0.929486</td>\n",
       "      <td>0.631197</td>\n",
       "      <td>1.000000</td>\n",
       "      <td>0.165728</td>\n",
       "      <td>0.292332</td>\n",
       "      <td>0.129067</td>\n",
       "      <td>0.175801</td>\n",
       "      <td>0.955188</td>\n",
       "      <td>0.129067</td>\n",
       "    </tr>\n",
       "    <tr>\n",
       "      <th>LF</th>\n",
       "      <td>0.235596</td>\n",
       "      <td>0.636278</td>\n",
       "      <td>0.458830</td>\n",
       "      <td>-0.180572</td>\n",
       "      <td>0.408102</td>\n",
       "      <td>0.822487</td>\n",
       "      <td>0.986346</td>\n",
       "      <td>-0.141250</td>\n",
       "      <td>0.165728</td>\n",
       "      <td>1.000000</td>\n",
       "      <td>...</td>\n",
       "      <td>0.123218</td>\n",
       "      <td>-0.141250</td>\n",
       "      <td>0.846493</td>\n",
       "      <td>0.165728</td>\n",
       "      <td>1.000000</td>\n",
       "      <td>0.970136</td>\n",
       "      <td>0.967872</td>\n",
       "      <td>0.986833</td>\n",
       "      <td>0.286582</td>\n",
       "      <td>0.967872</td>\n",
       "    </tr>\n",
       "    <tr>\n",
       "      <th>LM</th>\n",
       "      <td>0.232945</td>\n",
       "      <td>0.656745</td>\n",
       "      <td>0.474998</td>\n",
       "      <td>-0.177024</td>\n",
       "      <td>0.412422</td>\n",
       "      <td>0.872130</td>\n",
       "      <td>0.983408</td>\n",
       "      <td>-0.029624</td>\n",
       "      <td>0.292332</td>\n",
       "      <td>0.970136</td>\n",
       "      <td>...</td>\n",
       "      <td>0.273691</td>\n",
       "      <td>-0.029624</td>\n",
       "      <td>0.898170</td>\n",
       "      <td>0.292332</td>\n",
       "      <td>0.970136</td>\n",
       "      <td>1.000000</td>\n",
       "      <td>0.900747</td>\n",
       "      <td>0.988587</td>\n",
       "      <td>0.439558</td>\n",
       "      <td>0.900747</td>\n",
       "    </tr>\n",
       "    <tr>\n",
       "      <th>LS</th>\n",
       "      <td>0.287541</td>\n",
       "      <td>0.664822</td>\n",
       "      <td>0.447747</td>\n",
       "      <td>-0.184606</td>\n",
       "      <td>0.421092</td>\n",
       "      <td>0.793552</td>\n",
       "      <td>0.927452</td>\n",
       "      <td>-0.129200</td>\n",
       "      <td>0.129067</td>\n",
       "      <td>0.967872</td>\n",
       "      <td>...</td>\n",
       "      <td>0.077723</td>\n",
       "      <td>-0.129200</td>\n",
       "      <td>0.779877</td>\n",
       "      <td>0.129067</td>\n",
       "      <td>0.967872</td>\n",
       "      <td>0.900747</td>\n",
       "      <td>1.000000</td>\n",
       "      <td>0.929186</td>\n",
       "      <td>0.222406</td>\n",
       "      <td>1.000000</td>\n",
       "    </tr>\n",
       "    <tr>\n",
       "      <th>LW</th>\n",
       "      <td>0.206051</td>\n",
       "      <td>0.610198</td>\n",
       "      <td>0.448580</td>\n",
       "      <td>-0.169072</td>\n",
       "      <td>0.390940</td>\n",
       "      <td>0.825615</td>\n",
       "      <td>0.983941</td>\n",
       "      <td>-0.139745</td>\n",
       "      <td>0.175801</td>\n",
       "      <td>0.986833</td>\n",
       "      <td>...</td>\n",
       "      <td>0.158306</td>\n",
       "      <td>-0.139745</td>\n",
       "      <td>0.844640</td>\n",
       "      <td>0.175801</td>\n",
       "      <td>0.986833</td>\n",
       "      <td>0.988587</td>\n",
       "      <td>0.929186</td>\n",
       "      <td>1.000000</td>\n",
       "      <td>0.327975</td>\n",
       "      <td>0.929186</td>\n",
       "    </tr>\n",
       "    <tr>\n",
       "      <th>LWB</th>\n",
       "      <td>0.337143</td>\n",
       "      <td>0.629401</td>\n",
       "      <td>0.383213</td>\n",
       "      <td>-0.144693</td>\n",
       "      <td>0.343395</td>\n",
       "      <td>0.735167</td>\n",
       "      <td>0.368896</td>\n",
       "      <td>0.849959</td>\n",
       "      <td>0.955188</td>\n",
       "      <td>0.286582</td>\n",
       "      <td>...</td>\n",
       "      <td>0.981366</td>\n",
       "      <td>0.849959</td>\n",
       "      <td>0.685704</td>\n",
       "      <td>0.955188</td>\n",
       "      <td>0.286582</td>\n",
       "      <td>0.439558</td>\n",
       "      <td>0.222406</td>\n",
       "      <td>0.327975</td>\n",
       "      <td>1.000000</td>\n",
       "      <td>0.222406</td>\n",
       "    </tr>\n",
       "    <tr>\n",
       "      <th>RAM</th>\n",
       "      <td>0.245855</td>\n",
       "      <td>0.650313</td>\n",
       "      <td>0.470421</td>\n",
       "      <td>-0.181998</td>\n",
       "      <td>0.412427</td>\n",
       "      <td>0.854197</td>\n",
       "      <td>1.000000</td>\n",
       "      <td>-0.070694</td>\n",
       "      <td>0.257182</td>\n",
       "      <td>0.986346</td>\n",
       "      <td>...</td>\n",
       "      <td>0.204500</td>\n",
       "      <td>-0.070694</td>\n",
       "      <td>0.903315</td>\n",
       "      <td>0.257182</td>\n",
       "      <td>0.986346</td>\n",
       "      <td>0.983408</td>\n",
       "      <td>0.927452</td>\n",
       "      <td>0.983941</td>\n",
       "      <td>0.368896</td>\n",
       "      <td>0.927452</td>\n",
       "    </tr>\n",
       "    <tr>\n",
       "      <th>RB</th>\n",
       "      <td>0.321227</td>\n",
       "      <td>0.561887</td>\n",
       "      <td>0.330672</td>\n",
       "      <td>-0.125827</td>\n",
       "      <td>0.299300</td>\n",
       "      <td>0.623048</td>\n",
       "      <td>0.204500</td>\n",
       "      <td>0.926170</td>\n",
       "      <td>0.968022</td>\n",
       "      <td>0.123218</td>\n",
       "      <td>...</td>\n",
       "      <td>1.000000</td>\n",
       "      <td>0.926170</td>\n",
       "      <td>0.558706</td>\n",
       "      <td>0.968022</td>\n",
       "      <td>0.123218</td>\n",
       "      <td>0.273691</td>\n",
       "      <td>0.077723</td>\n",
       "      <td>0.158306</td>\n",
       "      <td>0.981366</td>\n",
       "      <td>0.077723</td>\n",
       "    </tr>\n",
       "    <tr>\n",
       "      <th>RCB</th>\n",
       "      <td>0.337481</td>\n",
       "      <td>0.448856</td>\n",
       "      <td>0.219380</td>\n",
       "      <td>-0.093359</td>\n",
       "      <td>0.220554</td>\n",
       "      <td>0.401629</td>\n",
       "      <td>-0.070694</td>\n",
       "      <td>1.000000</td>\n",
       "      <td>0.929486</td>\n",
       "      <td>-0.141250</td>\n",
       "      <td>...</td>\n",
       "      <td>0.926170</td>\n",
       "      <td>1.000000</td>\n",
       "      <td>0.328064</td>\n",
       "      <td>0.929486</td>\n",
       "      <td>-0.141250</td>\n",
       "      <td>-0.029624</td>\n",
       "      <td>-0.129200</td>\n",
       "      <td>-0.139745</td>\n",
       "      <td>0.849959</td>\n",
       "      <td>-0.129200</td>\n",
       "    </tr>\n",
       "    <tr>\n",
       "      <th>RCM</th>\n",
       "      <td>0.365783</td>\n",
       "      <td>0.764609</td>\n",
       "      <td>0.508133</td>\n",
       "      <td>-0.203486</td>\n",
       "      <td>0.457183</td>\n",
       "      <td>0.943764</td>\n",
       "      <td>0.903315</td>\n",
       "      <td>0.328064</td>\n",
       "      <td>0.631197</td>\n",
       "      <td>0.846493</td>\n",
       "      <td>...</td>\n",
       "      <td>0.558706</td>\n",
       "      <td>0.328064</td>\n",
       "      <td>1.000000</td>\n",
       "      <td>0.631197</td>\n",
       "      <td>0.846493</td>\n",
       "      <td>0.898170</td>\n",
       "      <td>0.779877</td>\n",
       "      <td>0.844640</td>\n",
       "      <td>0.685704</td>\n",
       "      <td>0.779877</td>\n",
       "    </tr>\n",
       "    <tr>\n",
       "      <th>RDM</th>\n",
       "      <td>0.383450</td>\n",
       "      <td>0.607727</td>\n",
       "      <td>0.345344</td>\n",
       "      <td>-0.139879</td>\n",
       "      <td>0.321822</td>\n",
       "      <td>0.650723</td>\n",
       "      <td>0.257182</td>\n",
       "      <td>0.929486</td>\n",
       "      <td>1.000000</td>\n",
       "      <td>0.165728</td>\n",
       "      <td>...</td>\n",
       "      <td>0.968022</td>\n",
       "      <td>0.929486</td>\n",
       "      <td>0.631197</td>\n",
       "      <td>1.000000</td>\n",
       "      <td>0.165728</td>\n",
       "      <td>0.292332</td>\n",
       "      <td>0.129067</td>\n",
       "      <td>0.175801</td>\n",
       "      <td>0.955188</td>\n",
       "      <td>0.129067</td>\n",
       "    </tr>\n",
       "    <tr>\n",
       "      <th>RF</th>\n",
       "      <td>0.235596</td>\n",
       "      <td>0.636278</td>\n",
       "      <td>0.458830</td>\n",
       "      <td>-0.180572</td>\n",
       "      <td>0.408102</td>\n",
       "      <td>0.822487</td>\n",
       "      <td>0.986346</td>\n",
       "      <td>-0.141250</td>\n",
       "      <td>0.165728</td>\n",
       "      <td>1.000000</td>\n",
       "      <td>...</td>\n",
       "      <td>0.123218</td>\n",
       "      <td>-0.141250</td>\n",
       "      <td>0.846493</td>\n",
       "      <td>0.165728</td>\n",
       "      <td>1.000000</td>\n",
       "      <td>0.970136</td>\n",
       "      <td>0.967872</td>\n",
       "      <td>0.986833</td>\n",
       "      <td>0.286582</td>\n",
       "      <td>0.967872</td>\n",
       "    </tr>\n",
       "    <tr>\n",
       "      <th>RM</th>\n",
       "      <td>0.232945</td>\n",
       "      <td>0.656745</td>\n",
       "      <td>0.474998</td>\n",
       "      <td>-0.177024</td>\n",
       "      <td>0.412422</td>\n",
       "      <td>0.872130</td>\n",
       "      <td>0.983408</td>\n",
       "      <td>-0.029624</td>\n",
       "      <td>0.292332</td>\n",
       "      <td>0.970136</td>\n",
       "      <td>...</td>\n",
       "      <td>0.273691</td>\n",
       "      <td>-0.029624</td>\n",
       "      <td>0.898170</td>\n",
       "      <td>0.292332</td>\n",
       "      <td>0.970136</td>\n",
       "      <td>1.000000</td>\n",
       "      <td>0.900747</td>\n",
       "      <td>0.988587</td>\n",
       "      <td>0.439558</td>\n",
       "      <td>0.900747</td>\n",
       "    </tr>\n",
       "    <tr>\n",
       "      <th>RS</th>\n",
       "      <td>0.287541</td>\n",
       "      <td>0.664822</td>\n",
       "      <td>0.447747</td>\n",
       "      <td>-0.184606</td>\n",
       "      <td>0.421092</td>\n",
       "      <td>0.793552</td>\n",
       "      <td>0.927452</td>\n",
       "      <td>-0.129200</td>\n",
       "      <td>0.129067</td>\n",
       "      <td>0.967872</td>\n",
       "      <td>...</td>\n",
       "      <td>0.077723</td>\n",
       "      <td>-0.129200</td>\n",
       "      <td>0.779877</td>\n",
       "      <td>0.129067</td>\n",
       "      <td>0.967872</td>\n",
       "      <td>0.900747</td>\n",
       "      <td>1.000000</td>\n",
       "      <td>0.929186</td>\n",
       "      <td>0.222406</td>\n",
       "      <td>1.000000</td>\n",
       "    </tr>\n",
       "    <tr>\n",
       "      <th>RW</th>\n",
       "      <td>0.206051</td>\n",
       "      <td>0.610198</td>\n",
       "      <td>0.448580</td>\n",
       "      <td>-0.169072</td>\n",
       "      <td>0.390940</td>\n",
       "      <td>0.825615</td>\n",
       "      <td>0.983941</td>\n",
       "      <td>-0.139745</td>\n",
       "      <td>0.175801</td>\n",
       "      <td>0.986833</td>\n",
       "      <td>...</td>\n",
       "      <td>0.158306</td>\n",
       "      <td>-0.139745</td>\n",
       "      <td>0.844640</td>\n",
       "      <td>0.175801</td>\n",
       "      <td>0.986833</td>\n",
       "      <td>0.988587</td>\n",
       "      <td>0.929186</td>\n",
       "      <td>1.000000</td>\n",
       "      <td>0.327975</td>\n",
       "      <td>0.929186</td>\n",
       "    </tr>\n",
       "    <tr>\n",
       "      <th>RWB</th>\n",
       "      <td>0.337143</td>\n",
       "      <td>0.629401</td>\n",
       "      <td>0.383213</td>\n",
       "      <td>-0.144693</td>\n",
       "      <td>0.343395</td>\n",
       "      <td>0.735167</td>\n",
       "      <td>0.368896</td>\n",
       "      <td>0.849959</td>\n",
       "      <td>0.955188</td>\n",
       "      <td>0.286582</td>\n",
       "      <td>...</td>\n",
       "      <td>0.981366</td>\n",
       "      <td>0.849959</td>\n",
       "      <td>0.685704</td>\n",
       "      <td>0.955188</td>\n",
       "      <td>0.286582</td>\n",
       "      <td>0.439558</td>\n",
       "      <td>0.222406</td>\n",
       "      <td>0.327975</td>\n",
       "      <td>1.000000</td>\n",
       "      <td>0.222406</td>\n",
       "    </tr>\n",
       "    <tr>\n",
       "      <th>ST</th>\n",
       "      <td>0.287541</td>\n",
       "      <td>0.664822</td>\n",
       "      <td>0.447747</td>\n",
       "      <td>-0.184606</td>\n",
       "      <td>0.421092</td>\n",
       "      <td>0.793552</td>\n",
       "      <td>0.927452</td>\n",
       "      <td>-0.129200</td>\n",
       "      <td>0.129067</td>\n",
       "      <td>0.967872</td>\n",
       "      <td>...</td>\n",
       "      <td>0.077723</td>\n",
       "      <td>-0.129200</td>\n",
       "      <td>0.779877</td>\n",
       "      <td>0.129067</td>\n",
       "      <td>0.967872</td>\n",
       "      <td>0.900747</td>\n",
       "      <td>1.000000</td>\n",
       "      <td>0.929186</td>\n",
       "      <td>0.222406</td>\n",
       "      <td>1.000000</td>\n",
       "    </tr>\n",
       "  </tbody>\n",
       "</table>\n",
       "<p>33 rows × 33 columns</p>\n",
       "</div>"
      ],
      "text/plain": [
       "                Age   Overall  Potential     Value      Wage   Special  \\\n",
       "Age        1.000000  0.459765  -0.218264 -0.067069  0.150006  0.238667   \n",
       "Overall    0.459765  1.000000   0.683474 -0.233466  0.593789  0.604092   \n",
       "Potential -0.218264  0.683474   1.000000 -0.217572  0.519062  0.399511   \n",
       "Value     -0.067069 -0.233466  -0.217572  1.000000 -0.261942 -0.109017   \n",
       "Wage       0.150006  0.593789   0.519062 -0.261942  1.000000  0.367419   \n",
       "Special    0.238667  0.604092   0.399511 -0.109017  0.367419  1.000000   \n",
       "CAM        0.245855  0.650313   0.470421 -0.181998  0.412427  0.854197   \n",
       "CB         0.337481  0.448856   0.219380 -0.093359  0.220554  0.401629   \n",
       "CDM        0.383450  0.607727   0.345344 -0.139879  0.321822  0.650723   \n",
       "CF         0.235596  0.636278   0.458830 -0.180572  0.408102  0.822487   \n",
       "CM         0.365783  0.764609   0.508133 -0.203486  0.457183  0.943764   \n",
       "ID        -0.719316 -0.425881   0.001998  0.088663 -0.213480 -0.232074   \n",
       "LAM        0.245855  0.650313   0.470421 -0.181998  0.412427  0.854197   \n",
       "LB         0.321227  0.561887   0.330672 -0.125827  0.299300  0.623048   \n",
       "LCB        0.337481  0.448856   0.219380 -0.093359  0.220554  0.401629   \n",
       "LCM        0.365783  0.764609   0.508133 -0.203486  0.457183  0.943764   \n",
       "LDM        0.383450  0.607727   0.345344 -0.139879  0.321822  0.650723   \n",
       "LF         0.235596  0.636278   0.458830 -0.180572  0.408102  0.822487   \n",
       "LM         0.232945  0.656745   0.474998 -0.177024  0.412422  0.872130   \n",
       "LS         0.287541  0.664822   0.447747 -0.184606  0.421092  0.793552   \n",
       "LW         0.206051  0.610198   0.448580 -0.169072  0.390940  0.825615   \n",
       "LWB        0.337143  0.629401   0.383213 -0.144693  0.343395  0.735167   \n",
       "RAM        0.245855  0.650313   0.470421 -0.181998  0.412427  0.854197   \n",
       "RB         0.321227  0.561887   0.330672 -0.125827  0.299300  0.623048   \n",
       "RCB        0.337481  0.448856   0.219380 -0.093359  0.220554  0.401629   \n",
       "RCM        0.365783  0.764609   0.508133 -0.203486  0.457183  0.943764   \n",
       "RDM        0.383450  0.607727   0.345344 -0.139879  0.321822  0.650723   \n",
       "RF         0.235596  0.636278   0.458830 -0.180572  0.408102  0.822487   \n",
       "RM         0.232945  0.656745   0.474998 -0.177024  0.412422  0.872130   \n",
       "RS         0.287541  0.664822   0.447747 -0.184606  0.421092  0.793552   \n",
       "RW         0.206051  0.610198   0.448580 -0.169072  0.390940  0.825615   \n",
       "RWB        0.337143  0.629401   0.383213 -0.144693  0.343395  0.735167   \n",
       "ST         0.287541  0.664822   0.447747 -0.184606  0.421092  0.793552   \n",
       "\n",
       "                CAM        CB       CDM        CF    ...           RB  \\\n",
       "Age        0.245855  0.337481  0.383450  0.235596    ...     0.321227   \n",
       "Overall    0.650313  0.448856  0.607727  0.636278    ...     0.561887   \n",
       "Potential  0.470421  0.219380  0.345344  0.458830    ...     0.330672   \n",
       "Value     -0.181998 -0.093359 -0.139879 -0.180572    ...    -0.125827   \n",
       "Wage       0.412427  0.220554  0.321822  0.408102    ...     0.299300   \n",
       "Special    0.854197  0.401629  0.650723  0.822487    ...     0.623048   \n",
       "CAM        1.000000 -0.070694  0.257182  0.986346    ...     0.204500   \n",
       "CB        -0.070694  1.000000  0.929486 -0.141250    ...     0.926170   \n",
       "CDM        0.257182  0.929486  1.000000  0.165728    ...     0.968022   \n",
       "CF         0.986346 -0.141250  0.165728  1.000000    ...     0.123218   \n",
       "CM         0.903315  0.328064  0.631197  0.846493    ...     0.558706   \n",
       "ID        -0.268760 -0.285998 -0.345803 -0.254976    ...    -0.282252   \n",
       "LAM        1.000000 -0.070694  0.257182  0.986346    ...     0.204500   \n",
       "LB         0.204500  0.926170  0.968022  0.123218    ...     1.000000   \n",
       "LCB       -0.070694  1.000000  0.929486 -0.141250    ...     0.926170   \n",
       "LCM        0.903315  0.328064  0.631197  0.846493    ...     0.558706   \n",
       "LDM        0.257182  0.929486  1.000000  0.165728    ...     0.968022   \n",
       "LF         0.986346 -0.141250  0.165728  1.000000    ...     0.123218   \n",
       "LM         0.983408 -0.029624  0.292332  0.970136    ...     0.273691   \n",
       "LS         0.927452 -0.129200  0.129067  0.967872    ...     0.077723   \n",
       "LW         0.983941 -0.139745  0.175801  0.986833    ...     0.158306   \n",
       "LWB        0.368896  0.849959  0.955188  0.286582    ...     0.981366   \n",
       "RAM        1.000000 -0.070694  0.257182  0.986346    ...     0.204500   \n",
       "RB         0.204500  0.926170  0.968022  0.123218    ...     1.000000   \n",
       "RCB       -0.070694  1.000000  0.929486 -0.141250    ...     0.926170   \n",
       "RCM        0.903315  0.328064  0.631197  0.846493    ...     0.558706   \n",
       "RDM        0.257182  0.929486  1.000000  0.165728    ...     0.968022   \n",
       "RF         0.986346 -0.141250  0.165728  1.000000    ...     0.123218   \n",
       "RM         0.983408 -0.029624  0.292332  0.970136    ...     0.273691   \n",
       "RS         0.927452 -0.129200  0.129067  0.967872    ...     0.077723   \n",
       "RW         0.983941 -0.139745  0.175801  0.986833    ...     0.158306   \n",
       "RWB        0.368896  0.849959  0.955188  0.286582    ...     0.981366   \n",
       "ST         0.927452 -0.129200  0.129067  0.967872    ...     0.077723   \n",
       "\n",
       "                RCB       RCM       RDM        RF        RM        RS  \\\n",
       "Age        0.337481  0.365783  0.383450  0.235596  0.232945  0.287541   \n",
       "Overall    0.448856  0.764609  0.607727  0.636278  0.656745  0.664822   \n",
       "Potential  0.219380  0.508133  0.345344  0.458830  0.474998  0.447747   \n",
       "Value     -0.093359 -0.203486 -0.139879 -0.180572 -0.177024 -0.184606   \n",
       "Wage       0.220554  0.457183  0.321822  0.408102  0.412422  0.421092   \n",
       "Special    0.401629  0.943764  0.650723  0.822487  0.872130  0.793552   \n",
       "CAM       -0.070694  0.903315  0.257182  0.986346  0.983408  0.927452   \n",
       "CB         1.000000  0.328064  0.929486 -0.141250 -0.029624 -0.129200   \n",
       "CDM        0.929486  0.631197  1.000000  0.165728  0.292332  0.129067   \n",
       "CF        -0.141250  0.846493  0.165728  1.000000  0.970136  0.967872   \n",
       "CM         0.328064  1.000000  0.631197  0.846493  0.898170  0.779877   \n",
       "ID        -0.285998 -0.367868 -0.345803 -0.254976 -0.250306 -0.291824   \n",
       "LAM       -0.070694  0.903315  0.257182  0.986346  0.983408  0.927452   \n",
       "LB         0.926170  0.558706  0.968022  0.123218  0.273691  0.077723   \n",
       "LCB        1.000000  0.328064  0.929486 -0.141250 -0.029624 -0.129200   \n",
       "LCM        0.328064  1.000000  0.631197  0.846493  0.898170  0.779877   \n",
       "LDM        0.929486  0.631197  1.000000  0.165728  0.292332  0.129067   \n",
       "LF        -0.141250  0.846493  0.165728  1.000000  0.970136  0.967872   \n",
       "LM        -0.029624  0.898170  0.292332  0.970136  1.000000  0.900747   \n",
       "LS        -0.129200  0.779877  0.129067  0.967872  0.900747  1.000000   \n",
       "LW        -0.139745  0.844640  0.175801  0.986833  0.988587  0.929186   \n",
       "LWB        0.849959  0.685704  0.955188  0.286582  0.439558  0.222406   \n",
       "RAM       -0.070694  0.903315  0.257182  0.986346  0.983408  0.927452   \n",
       "RB         0.926170  0.558706  0.968022  0.123218  0.273691  0.077723   \n",
       "RCB        1.000000  0.328064  0.929486 -0.141250 -0.029624 -0.129200   \n",
       "RCM        0.328064  1.000000  0.631197  0.846493  0.898170  0.779877   \n",
       "RDM        0.929486  0.631197  1.000000  0.165728  0.292332  0.129067   \n",
       "RF        -0.141250  0.846493  0.165728  1.000000  0.970136  0.967872   \n",
       "RM        -0.029624  0.898170  0.292332  0.970136  1.000000  0.900747   \n",
       "RS        -0.129200  0.779877  0.129067  0.967872  0.900747  1.000000   \n",
       "RW        -0.139745  0.844640  0.175801  0.986833  0.988587  0.929186   \n",
       "RWB        0.849959  0.685704  0.955188  0.286582  0.439558  0.222406   \n",
       "ST        -0.129200  0.779877  0.129067  0.967872  0.900747  1.000000   \n",
       "\n",
       "                 RW       RWB        ST  \n",
       "Age        0.206051  0.337143  0.287541  \n",
       "Overall    0.610198  0.629401  0.664822  \n",
       "Potential  0.448580  0.383213  0.447747  \n",
       "Value     -0.169072 -0.144693 -0.184606  \n",
       "Wage       0.390940  0.343395  0.421092  \n",
       "Special    0.825615  0.735167  0.793552  \n",
       "CAM        0.983941  0.368896  0.927452  \n",
       "CB        -0.139745  0.849959 -0.129200  \n",
       "CDM        0.175801  0.955188  0.129067  \n",
       "CF         0.986833  0.286582  0.967872  \n",
       "CM         0.844640  0.685704  0.779877  \n",
       "ID        -0.229243 -0.304484 -0.291824  \n",
       "LAM        0.983941  0.368896  0.927452  \n",
       "LB         0.158306  0.981366  0.077723  \n",
       "LCB       -0.139745  0.849959 -0.129200  \n",
       "LCM        0.844640  0.685704  0.779877  \n",
       "LDM        0.175801  0.955188  0.129067  \n",
       "LF         0.986833  0.286582  0.967872  \n",
       "LM         0.988587  0.439558  0.900747  \n",
       "LS         0.929186  0.222406  1.000000  \n",
       "LW         1.000000  0.327975  0.929186  \n",
       "LWB        0.327975  1.000000  0.222406  \n",
       "RAM        0.983941  0.368896  0.927452  \n",
       "RB         0.158306  0.981366  0.077723  \n",
       "RCB       -0.139745  0.849959 -0.129200  \n",
       "RCM        0.844640  0.685704  0.779877  \n",
       "RDM        0.175801  0.955188  0.129067  \n",
       "RF         0.986833  0.286582  0.967872  \n",
       "RM         0.988587  0.439558  0.900747  \n",
       "RS         0.929186  0.222406  1.000000  \n",
       "RW         1.000000  0.327975  0.929186  \n",
       "RWB        0.327975  1.000000  0.222406  \n",
       "ST         0.929186  0.222406  1.000000  \n",
       "\n",
       "[33 rows x 33 columns]"
      ]
     },
     "execution_count": 20,
     "metadata": {},
     "output_type": "execute_result"
    }
   ],
   "source": [
    "fifa.corr()"
   ]
  },
  {
   "cell_type": "code",
   "execution_count": 21,
   "metadata": {
    "ExecuteTime": {
     "end_time": "2018-12-13T22:01:19.197558Z",
     "start_time": "2018-12-13T22:01:18.687920Z"
    },
    "slideshow": {
     "slide_type": "subslide"
    }
   },
   "outputs": [
    {
     "data": {
      "text/plain": [
       "Text(0.5,1,'Age/Wage')"
      ]
     },
     "execution_count": 21,
     "metadata": {},
     "output_type": "execute_result"
    },
    {
     "data": {
      "image/png": "[encoded data removed]",
      "text/plain": [
       "<matplotlib.figure.Figure at 0x2120d304b38>"
      ]
     },
     "metadata": {
      "needs_background": "light"
     },
     "output_type": "display_data"
    }
   ],
   "source": [
    "ax = fifa.plot.scatter('Age', 'Wage', figsize=(16,4))\n",
    "ax.set_title(\"Age/Wage\")"
   ]
  },
  {
   "cell_type": "markdown",
   "metadata": {
    "slideshow": {
     "slide_type": "subslide"
    }
   },
   "source": [
    "- Data visualization is a quick, easy way to convey concepts in a universal manner"
   ]
  },
  {
   "cell_type": "markdown",
   "metadata": {
    "slideshow": {
     "slide_type": "slide"
    }
   },
   "source": [
    "# Types of Plot\n",
    "\n",
    "- Univariate\n",
    "- Bivariate\n",
    "- Multivariate"
   ]
  },
  {
   "cell_type": "markdown",
   "metadata": {
    "slideshow": {
     "slide_type": "slide"
    }
   },
   "source": [
    "### Univariate\n",
    "\n",
    "- 'line' : line plot (default)\n",
    "- 'bar' : vertical bar plot\n",
    "- 'pie' : pie plot\n",
    "- 'barh' : horizontal bar plot\n",
    "- 'hist' : histogram\n",
    "- 'area' : area plot"
   ]
  },
  {
   "cell_type": "markdown",
   "metadata": {
    "slideshow": {
     "slide_type": "subslide"
    }
   },
   "source": [
    "# Line, Area\n",
    "\n",
    "- Good for ordinal categorical and interval data.\n",
    "\n",
    "- Line graphs are used to track changes over short and long periods of time. \n",
    "\n",
    "- Line graphs can also be used to compare changes over the same period of time for more than one group."
   ]
  },
  {
   "cell_type": "code",
   "execution_count": 92,
   "metadata": {
    "ExecuteTime": {
     "end_time": "2018-12-13T23:01:07.144957Z",
     "start_time": "2018-12-13T23:01:06.921571Z"
    },
    "slideshow": {
     "slide_type": "subslide"
    }
   },
   "outputs": [
    {
     "data": {
      "text/plain": [
       "<matplotlib.axes._subplots.AxesSubplot at 0x212262e5b70>"
      ]
     },
     "execution_count": 92,
     "metadata": {},
     "output_type": "execute_result"
    },
    {
     "data": {
      "image/png": "[encoded data removed]",
      "text/plain": [
       "<matplotlib.figure.Figure at 0x212262f1668>"
      ]
     },
     "metadata": {
      "needs_background": "light"
     },
     "output_type": "display_data"
    }
   ],
   "source": [
    "# 'line' : line plot (default)\n",
    "\n",
    "fifa.groupby(by='Age').mean()[['Wage']].plot.line(figsize=(10,6))"
   ]
  },
  {
   "cell_type": "code",
   "execution_count": 97,
   "metadata": {
    "ExecuteTime": {
     "end_time": "2018-12-13T23:03:25.307410Z",
     "start_time": "2018-12-13T23:03:25.069560Z"
    },
    "slideshow": {
     "slide_type": "subslide"
    }
   },
   "outputs": [
    {
     "data": {
      "text/plain": [
       "<matplotlib.axes._subplots.AxesSubplot at 0x21226445d30>"
      ]
     },
     "execution_count": 97,
     "metadata": {},
     "output_type": "execute_result"
    },
    {
     "data": {
      "image/png": "[encoded data removed]",
      "text/plain": [
       "<matplotlib.figure.Figure at 0x212265a66d8>"
      ]
     },
     "metadata": {
      "needs_background": "light"
     },
     "output_type": "display_data"
    }
   ],
   "source": [
    "# 'line' : line plot (default)\n",
    "\n",
    "fifa.groupby(by='Age').mean()[['Wage', 'Overall']].plot.line(figsize=(10,6))"
   ]
  },
  {
   "cell_type": "code",
   "execution_count": 99,
   "metadata": {
    "ExecuteTime": {
     "end_time": "2018-12-13T23:03:53.355567Z",
     "start_time": "2018-12-13T23:03:53.114816Z"
    },
    "slideshow": {
     "slide_type": "subslide"
    }
   },
   "outputs": [
    {
     "data": {
      "text/plain": [
       "<matplotlib.axes._subplots.AxesSubplot at 0x212266a80f0>"
      ]
     },
     "execution_count": 99,
     "metadata": {},
     "output_type": "execute_result"
    },
    {
     "data": {
      "image/png": "[encoded data removed]",
      "text/plain": [
       "<matplotlib.figure.Figure at 0x21226677860>"
      ]
     },
     "metadata": {
      "needs_background": "light"
     },
     "output_type": "display_data"
    }
   ],
   "source": [
    "# 'area' : area plot\n",
    "\n",
    "fifa.groupby(by='Age').mean()[['Overall', 'Wage']].plot.area(figsize=(10,6))"
   ]
  },
  {
   "cell_type": "code",
   "execution_count": 114,
   "metadata": {
    "ExecuteTime": {
     "end_time": "2018-12-13T23:29:36.264525Z",
     "start_time": "2018-12-13T23:29:35.583953Z"
    },
    "slideshow": {
     "slide_type": "subslide"
    }
   },
   "outputs": [
    {
     "data": {
      "text/plain": [
       "<matplotlib.axes._subplots.AxesSubplot at 0x21226a3d710>"
      ]
     },
     "execution_count": 114,
     "metadata": {},
     "output_type": "execute_result"
    },
    {
     "data": {
      "image/png": "[encoded data removed]",
      "text/plain": [
       "<matplotlib.figure.Figure at 0x21226f89da0>"
      ]
     },
     "metadata": {
      "needs_background": "light"
     },
     "output_type": "display_data"
    }
   ],
   "source": [
    "# 'kde' : Kernel Density Estimation plot\n",
    "\n",
    "fifa.loc[0:]['Overall'].plot(kind='kde', figsize=(10,6))"
   ]
  },
  {
   "cell_type": "code",
   "execution_count": 115,
   "metadata": {
    "ExecuteTime": {
     "end_time": "2018-12-13T23:29:39.898532Z",
     "start_time": "2018-12-13T23:29:39.114619Z"
    },
    "slideshow": {
     "slide_type": "subslide"
    }
   },
   "outputs": [
    {
     "data": {
      "text/plain": [
       "<matplotlib.axes._subplots.AxesSubplot at 0x21226fb6470>"
      ]
     },
     "execution_count": 115,
     "metadata": {},
     "output_type": "execute_result"
    },
    {
     "data": {
      "image/png": "[encoded data removed]",
      "text/plain": [
       "<matplotlib.figure.Figure at 0x21226f89588>"
      ]
     },
     "metadata": {
      "needs_background": "light"
     },
     "output_type": "display_data"
    }
   ],
   "source": [
    "# 'density' : same as 'kde'\n",
    "\n",
    "fifa.loc[0:]['Potential'].plot(kind='density', figsize=(10,6))"
   ]
  },
  {
   "cell_type": "markdown",
   "metadata": {
    "slideshow": {
     "slide_type": "subslide"
    }
   },
   "source": [
    "# Bar, Barh, Pie\n",
    "\n",
    "- Good for nominal and small ordinal categorical data.\n",
    "\n",
    "- Bar graphs are used to compare things between different groups"
   ]
  },
  {
   "cell_type": "code",
   "execution_count": 90,
   "metadata": {
    "ExecuteTime": {
     "end_time": "2018-12-13T23:00:55.110248Z",
     "start_time": "2018-12-13T23:00:54.869368Z"
    },
    "slideshow": {
     "slide_type": "subslide"
    }
   },
   "outputs": [
    {
     "data": {
      "text/plain": [
       "<matplotlib.axes._subplots.AxesSubplot at 0x2122638d400>"
      ]
     },
     "execution_count": 90,
     "metadata": {},
     "output_type": "execute_result"
    },
    {
     "data": {
      "image/png": "[encoded data removed]",
      "text/plain": [
       "<matplotlib.figure.Figure at 0x212256264a8>"
      ]
     },
     "metadata": {
      "needs_background": "light"
     },
     "output_type": "display_data"
    }
   ],
   "source": [
    "# 'bar' : vertical bar plot\n",
    "\n",
    "fifa['Nationality'].value_counts().head(10).plot.bar(figsize=(10,6))"
   ]
  },
  {
   "cell_type": "code",
   "execution_count": 89,
   "metadata": {
    "ExecuteTime": {
     "end_time": "2018-12-13T23:00:48.532656Z",
     "start_time": "2018-12-13T23:00:48.285952Z"
    },
    "slideshow": {
     "slide_type": "subslide"
    }
   },
   "outputs": [
    {
     "data": {
      "text/plain": [
       "<matplotlib.axes._subplots.AxesSubplot at 0x21226371978>"
      ]
     },
     "execution_count": 89,
     "metadata": {},
     "output_type": "execute_result"
    },
    {
     "data": {
      "image/png": "[encoded data removed]",
      "text/plain": [
       "<matplotlib.figure.Figure at 0x21225e42898>"
      ]
     },
     "metadata": {
      "needs_background": "light"
     },
     "output_type": "display_data"
    }
   ],
   "source": [
    "# 'barh' : horizontal bar plot\n",
    "\n",
    "fifa['Nationality'].value_counts().head(10).plot.barh(figsize=(10,6))"
   ]
  },
  {
   "cell_type": "code",
   "execution_count": 88,
   "metadata": {
    "ExecuteTime": {
     "end_time": "2018-12-13T22:58:16.911070Z",
     "start_time": "2018-12-13T22:58:16.734428Z"
    },
    "slideshow": {
     "slide_type": "subslide"
    }
   },
   "outputs": [
    {
     "data": {
      "text/plain": [
       "<matplotlib.axes._subplots.AxesSubplot at 0x21225e21710>"
      ]
     },
     "execution_count": 88,
     "metadata": {},
     "output_type": "execute_result"
    },
    {
     "data": {
      "image/png": "[encoded data removed]",
      "text/plain": [
       "<matplotlib.figure.Figure at 0x21225653f98>"
      ]
     },
     "metadata": {},
     "output_type": "display_data"
    }
   ],
   "source": [
    "# 'pie' : pie plot\n",
    "\n",
    "fifa['Nationality'].value_counts().head(10).plot.pie(figsize=(10,6))"
   ]
  },
  {
   "cell_type": "markdown",
   "metadata": {
    "slideshow": {
     "slide_type": "subslide"
    }
   },
   "source": [
    "### Histogram\n",
    "\n",
    "- Good for interval data."
   ]
  },
  {
   "cell_type": "code",
   "execution_count": 39,
   "metadata": {
    "ExecuteTime": {
     "end_time": "2018-12-13T22:12:11.414231Z",
     "start_time": "2018-12-13T22:12:11.046133Z"
    },
    "slideshow": {
     "slide_type": "subslide"
    }
   },
   "outputs": [
    {
     "data": {
      "text/plain": [
       "<matplotlib.axes._subplots.AxesSubplot at 0x212176e5320>"
      ]
     },
     "execution_count": 39,
     "metadata": {},
     "output_type": "execute_result"
    },
    {
     "data": {
      "image/png": "[encoded data removed]",
      "text/plain": [
       "<matplotlib.figure.Figure at 0x21219863a90>"
      ]
     },
     "metadata": {
      "needs_background": "light"
     },
     "output_type": "display_data"
    }
   ],
   "source": [
    "# 'hist' : histogram\n",
    "\n",
    "fifa[\"Age\"].plot.hist(bins=100, figsize=(10,6))"
   ]
  },
  {
   "cell_type": "markdown",
   "metadata": {
    "slideshow": {
     "slide_type": "subslide"
    }
   },
   "source": [
    "### Boxplot\n",
    "\n",
    "- To visualize the distribution of values within each column.\n",
    "\n"
   ]
  },
  {
   "cell_type": "code",
   "execution_count": 100,
   "metadata": {
    "ExecuteTime": {
     "end_time": "2018-12-13T23:05:40.082042Z",
     "start_time": "2018-12-13T23:05:39.918412Z"
    },
    "slideshow": {
     "slide_type": "subslide"
    }
   },
   "outputs": [
    {
     "data": {
      "text/plain": [
       "<matplotlib.axes._subplots.AxesSubplot at 0x2122669ba90>"
      ]
     },
     "execution_count": 100,
     "metadata": {},
     "output_type": "execute_result"
    },
    {
     "data": {
      "image/png": "[encoded data removed]",
      "text/plain": [
       "<matplotlib.figure.Figure at 0x212266d15c0>"
      ]
     },
     "metadata": {
      "needs_background": "light"
     },
     "output_type": "display_data"
    }
   ],
   "source": [
    "# 'box' : boxplot\n",
    "\n",
    "fifa['Age'].plot.box(figsize=(10,6))"
   ]
  },
  {
   "cell_type": "markdown",
   "metadata": {
    "slideshow": {
     "slide_type": "slide"
    }
   },
   "source": [
    "### Bivariate\n",
    "\n",
    "- 'scatter' : scatter plot\n",
    "- 'hexbin' : hexbin plot"
   ]
  },
  {
   "cell_type": "markdown",
   "metadata": {
    "slideshow": {
     "slide_type": "subslide"
    }
   },
   "source": [
    "### Scatter\n",
    "\n",
    "A simple scatter plot simply maps each variable of interest to a point in two-dimensional space."
   ]
  },
  {
   "cell_type": "code",
   "execution_count": 103,
   "metadata": {
    "ExecuteTime": {
     "end_time": "2018-12-13T23:05:57.697957Z",
     "start_time": "2018-12-13T23:05:57.329392Z"
    },
    "slideshow": {
     "slide_type": "subslide"
    }
   },
   "outputs": [
    {
     "data": {
      "text/plain": [
       "<matplotlib.axes._subplots.AxesSubplot at 0x212269c7c88>"
      ]
     },
     "execution_count": 103,
     "metadata": {},
     "output_type": "execute_result"
    },
    {
     "data": {
      "image/png": "[encoded data removed]",
      "text/plain": [
       "<matplotlib.figure.Figure at 0x212267936a0>"
      ]
     },
     "metadata": {
      "needs_background": "light"
     },
     "output_type": "display_data"
    }
   ],
   "source": [
    "# 'scatter' : scatter plot\n",
    "\n",
    "fifa.plot(kind='scatter', x='Overall', y='Wage', figsize=(10,6))"
   ]
  },
  {
   "cell_type": "markdown",
   "metadata": {
    "slideshow": {
     "slide_type": "subslide"
    }
   },
   "source": [
    "### Hexbin\n",
    "\n",
    "- A hex plot aggregates points in space into hexagons, and then colors those hexagons based on the values within them"
   ]
  },
  {
   "cell_type": "code",
   "execution_count": 104,
   "metadata": {
    "ExecuteTime": {
     "end_time": "2018-12-13T23:06:05.666222Z",
     "start_time": "2018-12-13T23:06:05.117127Z"
    },
    "slideshow": {
     "slide_type": "subslide"
    }
   },
   "outputs": [
    {
     "data": {
      "text/plain": [
       "<matplotlib.axes._subplots.AxesSubplot at 0x212269b9ef0>"
      ]
     },
     "execution_count": 104,
     "metadata": {},
     "output_type": "execute_result"
    },
    {
     "data": {
      "image/png": "[encoded data removed]",
      "text/plain": [
       "<matplotlib.figure.Figure at 0x212269c7278>"
      ]
     },
     "metadata": {
      "needs_background": "light"
     },
     "output_type": "display_data"
    }
   ],
   "source": [
    "# 'hexbin' : hexbin plot\n",
    "\n",
    "fifa.plot(kind='hexbin', x='Overall', y='Age', figsize=(10,6), grid=15)"
   ]
  },
  {
   "cell_type": "markdown",
   "metadata": {
    "slideshow": {
     "slide_type": "slide"
    }
   },
   "source": [
    "### Multivariate\n",
    "\n",
    "- Multivariate Scatter Plot\n",
    "- Grouped Box Plot\n",
    "- Heatmap"
   ]
  },
  {
   "cell_type": "code",
   "execution_count": 110,
   "metadata": {
    "ExecuteTime": {
     "end_time": "2018-12-13T23:13:08.366282Z",
     "start_time": "2018-12-13T23:13:08.023939Z"
    },
    "slideshow": {
     "slide_type": "subslide"
    }
   },
   "outputs": [
    {
     "data": {
      "text/plain": [
       "<matplotlib.axes._subplots.AxesSubplot at 0x21226dde198>"
      ]
     },
     "execution_count": 110,
     "metadata": {},
     "output_type": "execute_result"
    },
    {
     "data": {
      "image/png": "[encoded data removed]",
      "text/plain": [
       "<matplotlib.figure.Figure at 0x21226c203c8>"
      ]
     },
     "metadata": {
      "needs_background": "light"
     },
     "output_type": "display_data"
    }
   ],
   "source": [
    "# Heatmap\n",
    "\n",
    "f = (\n",
    "    fifa.loc[:, ['Acceleration', 'Aggression', 'Agility', 'Balance', 'Ball control']]\n",
    "        .applymap(lambda v: int(v) if str.isdecimal(v) else np.nan)\n",
    "        .dropna()\n",
    ").corr()\n",
    "\n",
    "sns.heatmap(f, annot=True)"
   ]
  },
  {
   "cell_type": "markdown",
   "metadata": {
    "slideshow": {
     "slide_type": "slide"
    }
   },
   "source": [
    "# Happy Exploring!"
   ]
  },
  {
   "cell_type": "markdown",
   "metadata": {
    "ExecuteTime": {
     "end_time": "2018-12-13T23:17:55.442581Z",
     "start_time": "2018-12-13T23:17:55.435592Z"
    },
    "slideshow": {
     "slide_type": "notes"
    }
   },
   "source": [
    "References:\n",
    "\n",
    "[https://www.kaggle.com/residentmario/welcome-to-data-visualization](https://www.kaggle.com/residentmario/welcome-to-data-visualization)\n",
    "\n",
    "[https://pandas.pydata.org/pandas-docs/stable/visualization.html](https://pandas.pydata.org/pandas-docs/stable/visualization.html)\n",
    "\n",
    "[https://jakevdp.github.io/PythonDataScienceHandbook/04.14-visualization-with-seaborn.html](https://jakevdp.github.io/PythonDataScienceHandbook/04.14-visualization-with-seaborn.html)"
   ]
  }
 ],
 "metadata": {
  "celltoolbar": "Slideshow",
  "kernelspec": {
   "display_name": "Python 3",
   "language": "python",
   "name": "python3"
  },
  "language_info": {
   "codemirror_mode": {
    "name": "ipython",
    "version": 3
   },
   "file_extension": ".py",
   "mimetype": "text/x-python",
   "name": "python",
   "nbconvert_exporter": "python",
   "pygments_lexer": "ipython3",
   "version": "3.6.4"
  },
  "varInspector": {
   "cols": {
    "lenName": 16,
    "lenType": 16,
    "lenVar": 40
   },
   "kernels_config": {
    "python": {
     "delete_cmd_postfix": "",
     "delete_cmd_prefix": "del ",
     "library": "var_list.py",
     "varRefreshCmd": "print(var_dic_list())"
    },
    "r": {
     "delete_cmd_postfix": ") ",
     "delete_cmd_prefix": "rm(",
     "library": "var_list.r",
     "varRefreshCmd": "cat(var_dic_list()) "
    }
   },
   "types_to_exclude": [
    "module",
    "function",
    "builtin_function_or_method",
    "instance",
    "_Feature"
   ],
   "window_display": false
  }
 },
 "nbformat": 4,
 "nbformat_minor": 2
}
